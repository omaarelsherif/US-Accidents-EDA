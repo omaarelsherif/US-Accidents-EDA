{
  "nbformat": 4,
  "nbformat_minor": 0,
  "metadata": {
    "colab": {
      "provenance": []
    },
    "kernelspec": {
      "name": "python3",
      "display_name": "Python 3"
    },
    "language_info": {
      "name": "python"
    },
    "gpuClass": "standard"
  },
  "cells": [
    {
      "cell_type": "markdown",
      "source": [
        "# **US Accidents EDA**\n",
        "Apply Exploratory Data Analysis for a countrywide traffic accident dataset from kaggle called [US accidents](https://www.kaggle.com/datasets/sobhanmoosavi/us-accidents) "
      ],
      "metadata": {
        "id": "AzcvwzFfHaga"
      }
    },
    {
      "cell_type": "markdown",
      "source": [
        "## **Environment setup**\n",
        "Before we dive deep into project steps we will setup our environment by the following steps :\n",
        "* Install required packages\n",
        "* Download the dataset"
      ],
      "metadata": {
        "id": "n7-Dh07QJp-Z"
      }
    },
    {
      "cell_type": "markdown",
      "source": [
        "##### **Install required packages**"
      ],
      "metadata": {
        "id": "bkkwUB_BJ87p"
      }
    },
    {
      "cell_type": "code",
      "source": [
        "!pip install -q -r \"requirements.txt\""
      ],
      "metadata": {
        "id": "AlxdJUU3J8Fg"
      },
      "execution_count": 6,
      "outputs": []
    },
    {
      "cell_type": "markdown",
      "source": [
        "##### **Download the dataset**\n",
        "We will use [opendatasets](https://github.com/JovianML/opendatasets) from JovianML to download the dataset from kaggle  \n",
        "**Hint:** Use instruction provided [here](https://github.com/JovianML/opendatasets) for getting kaggle username and key\n"
      ],
      "metadata": {
        "id": "1ard6WjPJYER"
      }
    },
    {
      "cell_type": "code",
      "source": [
        "import opendatasets as od\n",
        "od.download('https://www.kaggle.com/sobhanmoosavi/us-accidents')"
      ],
      "metadata": {
        "colab": {
          "base_uri": "https://localhost:8080/"
        },
        "id": "DB3MlKjBLmmH",
        "outputId": "ebe75e2e-7eae-45fb-c934-4c0cc9412075"
      },
      "execution_count": 7,
      "outputs": [
        {
          "output_type": "stream",
          "name": "stdout",
          "text": [
            "Please provide your Kaggle credentials to download this dataset. Learn more: http://bit.ly/kaggle-creds\n",
            "Your Kaggle username: omarelsherif\n",
            "Your Kaggle Key: ··········\n",
            "Downloading us-accidents.zip to ./us-accidents\n"
          ]
        },
        {
          "output_type": "stream",
          "name": "stderr",
          "text": [
            "100%|██████████| 269M/269M [00:02<00:00, 141MB/s]\n"
          ]
        },
        {
          "output_type": "stream",
          "name": "stdout",
          "text": [
            "\n"
          ]
        }
      ]
    },
    {
      "cell_type": "markdown",
      "source": [
        "## **The Data**\n",
        "We will go through all steps for successfully applying EDA for the dataset as following :- \n",
        "1. Data Loading\n",
        "2. Data Cleaning\n",
        "3. EDA"
      ],
      "metadata": {
        "id": "3A02Q-9SQLN1"
      }
    },
    {
      "cell_type": "code",
      "source": [
        "# Import needed packages\n",
        "import numpy as np\n",
        "import pandas as pd\n",
        "import matplotlib.pyplot as plt\n",
        "import seaborn as sns\n",
        "sns.set_style(\"white\")\n",
        "from folium.plugins import HeatMap\n",
        "import warnings\n",
        "warnings.simplefilter(action='ignore', category=FutureWarning)"
      ],
      "metadata": {
        "id": "Ni-4eRtcWeGj"
      },
      "execution_count": 58,
      "outputs": []
    },
    {
      "cell_type": "markdown",
      "source": [
        "### **1. Data Loading**\n",
        "Load the dataset and show its information and features statistics"
      ],
      "metadata": {
        "id": "vOq_B3KYMZmm"
      }
    },
    {
      "cell_type": "code",
      "source": [
        "# Load the dataset\n",
        "dataset = pd.read_csv(\"/content/us-accidents/US_Accidents_Dec21_updated.csv\")"
      ],
      "metadata": {
        "id": "QwgFkAfmMY6w"
      },
      "execution_count": 9,
      "outputs": []
    },
    {
      "cell_type": "code",
      "source": [
        "# Show dataset head\n",
        "dataset.head()"
      ],
      "metadata": {
        "colab": {
          "base_uri": "https://localhost:8080/",
          "height": 507
        },
        "id": "0PB2RzS8MY9w",
        "outputId": "4b2be7f7-284e-491b-befc-221aada4ebfd"
      },
      "execution_count": 10,
      "outputs": [
        {
          "output_type": "execute_result",
          "data": {
            "text/plain": [
              "    ID  Severity           Start_Time             End_Time  Start_Lat  \\\n",
              "0  A-1         3  2016-02-08 00:37:08  2016-02-08 06:37:08  40.108910   \n",
              "1  A-2         2  2016-02-08 05:56:20  2016-02-08 11:56:20  39.865420   \n",
              "2  A-3         2  2016-02-08 06:15:39  2016-02-08 12:15:39  39.102660   \n",
              "3  A-4         2  2016-02-08 06:51:45  2016-02-08 12:51:45  41.062130   \n",
              "4  A-5         3  2016-02-08 07:53:43  2016-02-08 13:53:43  39.172393   \n",
              "\n",
              "   Start_Lng    End_Lat    End_Lng  Distance(mi)  \\\n",
              "0 -83.092860  40.112060 -83.031870         3.230   \n",
              "1 -84.062800  39.865010 -84.048730         0.747   \n",
              "2 -84.524680  39.102090 -84.523960         0.055   \n",
              "3 -81.537840  41.062170 -81.535470         0.123   \n",
              "4 -84.492792  39.170476 -84.501798         0.500   \n",
              "\n",
              "                                         Description  ...  Roundabout Station  \\\n",
              "0  Between Sawmill Rd/Exit 20 and OH-315/Olentang...  ...       False   False   \n",
              "1                 At OH-4/OH-235/Exit 41 - Accident.  ...       False   False   \n",
              "2                   At I-71/US-50/Exit 1 - Accident.  ...       False   False   \n",
              "3                    At Dart Ave/Exit 21 - Accident.  ...       False   False   \n",
              "4                 At Mitchell Ave/Exit 6 - Accident.  ...       False   False   \n",
              "\n",
              "    Stop Traffic_Calming Traffic_Signal Turning_Loop Sunrise_Sunset  \\\n",
              "0  False           False          False        False          Night   \n",
              "1  False           False          False        False          Night   \n",
              "2  False           False          False        False          Night   \n",
              "3  False           False          False        False          Night   \n",
              "4  False           False          False        False            Day   \n",
              "\n",
              "  Civil_Twilight Nautical_Twilight Astronomical_Twilight  \n",
              "0          Night             Night                 Night  \n",
              "1          Night             Night                 Night  \n",
              "2          Night             Night                   Day  \n",
              "3          Night               Day                   Day  \n",
              "4            Day               Day                   Day  \n",
              "\n",
              "[5 rows x 47 columns]"
            ],
            "text/html": [
              "\n",
              "  <div id=\"df-e01c0f03-331a-4136-948b-a7404f7330a7\">\n",
              "    <div class=\"colab-df-container\">\n",
              "      <div>\n",
              "<style scoped>\n",
              "    .dataframe tbody tr th:only-of-type {\n",
              "        vertical-align: middle;\n",
              "    }\n",
              "\n",
              "    .dataframe tbody tr th {\n",
              "        vertical-align: top;\n",
              "    }\n",
              "\n",
              "    .dataframe thead th {\n",
              "        text-align: right;\n",
              "    }\n",
              "</style>\n",
              "<table border=\"1\" class=\"dataframe\">\n",
              "  <thead>\n",
              "    <tr style=\"text-align: right;\">\n",
              "      <th></th>\n",
              "      <th>ID</th>\n",
              "      <th>Severity</th>\n",
              "      <th>Start_Time</th>\n",
              "      <th>End_Time</th>\n",
              "      <th>Start_Lat</th>\n",
              "      <th>Start_Lng</th>\n",
              "      <th>End_Lat</th>\n",
              "      <th>End_Lng</th>\n",
              "      <th>Distance(mi)</th>\n",
              "      <th>Description</th>\n",
              "      <th>...</th>\n",
              "      <th>Roundabout</th>\n",
              "      <th>Station</th>\n",
              "      <th>Stop</th>\n",
              "      <th>Traffic_Calming</th>\n",
              "      <th>Traffic_Signal</th>\n",
              "      <th>Turning_Loop</th>\n",
              "      <th>Sunrise_Sunset</th>\n",
              "      <th>Civil_Twilight</th>\n",
              "      <th>Nautical_Twilight</th>\n",
              "      <th>Astronomical_Twilight</th>\n",
              "    </tr>\n",
              "  </thead>\n",
              "  <tbody>\n",
              "    <tr>\n",
              "      <th>0</th>\n",
              "      <td>A-1</td>\n",
              "      <td>3</td>\n",
              "      <td>2016-02-08 00:37:08</td>\n",
              "      <td>2016-02-08 06:37:08</td>\n",
              "      <td>40.108910</td>\n",
              "      <td>-83.092860</td>\n",
              "      <td>40.112060</td>\n",
              "      <td>-83.031870</td>\n",
              "      <td>3.230</td>\n",
              "      <td>Between Sawmill Rd/Exit 20 and OH-315/Olentang...</td>\n",
              "      <td>...</td>\n",
              "      <td>False</td>\n",
              "      <td>False</td>\n",
              "      <td>False</td>\n",
              "      <td>False</td>\n",
              "      <td>False</td>\n",
              "      <td>False</td>\n",
              "      <td>Night</td>\n",
              "      <td>Night</td>\n",
              "      <td>Night</td>\n",
              "      <td>Night</td>\n",
              "    </tr>\n",
              "    <tr>\n",
              "      <th>1</th>\n",
              "      <td>A-2</td>\n",
              "      <td>2</td>\n",
              "      <td>2016-02-08 05:56:20</td>\n",
              "      <td>2016-02-08 11:56:20</td>\n",
              "      <td>39.865420</td>\n",
              "      <td>-84.062800</td>\n",
              "      <td>39.865010</td>\n",
              "      <td>-84.048730</td>\n",
              "      <td>0.747</td>\n",
              "      <td>At OH-4/OH-235/Exit 41 - Accident.</td>\n",
              "      <td>...</td>\n",
              "      <td>False</td>\n",
              "      <td>False</td>\n",
              "      <td>False</td>\n",
              "      <td>False</td>\n",
              "      <td>False</td>\n",
              "      <td>False</td>\n",
              "      <td>Night</td>\n",
              "      <td>Night</td>\n",
              "      <td>Night</td>\n",
              "      <td>Night</td>\n",
              "    </tr>\n",
              "    <tr>\n",
              "      <th>2</th>\n",
              "      <td>A-3</td>\n",
              "      <td>2</td>\n",
              "      <td>2016-02-08 06:15:39</td>\n",
              "      <td>2016-02-08 12:15:39</td>\n",
              "      <td>39.102660</td>\n",
              "      <td>-84.524680</td>\n",
              "      <td>39.102090</td>\n",
              "      <td>-84.523960</td>\n",
              "      <td>0.055</td>\n",
              "      <td>At I-71/US-50/Exit 1 - Accident.</td>\n",
              "      <td>...</td>\n",
              "      <td>False</td>\n",
              "      <td>False</td>\n",
              "      <td>False</td>\n",
              "      <td>False</td>\n",
              "      <td>False</td>\n",
              "      <td>False</td>\n",
              "      <td>Night</td>\n",
              "      <td>Night</td>\n",
              "      <td>Night</td>\n",
              "      <td>Day</td>\n",
              "    </tr>\n",
              "    <tr>\n",
              "      <th>3</th>\n",
              "      <td>A-4</td>\n",
              "      <td>2</td>\n",
              "      <td>2016-02-08 06:51:45</td>\n",
              "      <td>2016-02-08 12:51:45</td>\n",
              "      <td>41.062130</td>\n",
              "      <td>-81.537840</td>\n",
              "      <td>41.062170</td>\n",
              "      <td>-81.535470</td>\n",
              "      <td>0.123</td>\n",
              "      <td>At Dart Ave/Exit 21 - Accident.</td>\n",
              "      <td>...</td>\n",
              "      <td>False</td>\n",
              "      <td>False</td>\n",
              "      <td>False</td>\n",
              "      <td>False</td>\n",
              "      <td>False</td>\n",
              "      <td>False</td>\n",
              "      <td>Night</td>\n",
              "      <td>Night</td>\n",
              "      <td>Day</td>\n",
              "      <td>Day</td>\n",
              "    </tr>\n",
              "    <tr>\n",
              "      <th>4</th>\n",
              "      <td>A-5</td>\n",
              "      <td>3</td>\n",
              "      <td>2016-02-08 07:53:43</td>\n",
              "      <td>2016-02-08 13:53:43</td>\n",
              "      <td>39.172393</td>\n",
              "      <td>-84.492792</td>\n",
              "      <td>39.170476</td>\n",
              "      <td>-84.501798</td>\n",
              "      <td>0.500</td>\n",
              "      <td>At Mitchell Ave/Exit 6 - Accident.</td>\n",
              "      <td>...</td>\n",
              "      <td>False</td>\n",
              "      <td>False</td>\n",
              "      <td>False</td>\n",
              "      <td>False</td>\n",
              "      <td>False</td>\n",
              "      <td>False</td>\n",
              "      <td>Day</td>\n",
              "      <td>Day</td>\n",
              "      <td>Day</td>\n",
              "      <td>Day</td>\n",
              "    </tr>\n",
              "  </tbody>\n",
              "</table>\n",
              "<p>5 rows × 47 columns</p>\n",
              "</div>\n",
              "      <button class=\"colab-df-convert\" onclick=\"convertToInteractive('df-e01c0f03-331a-4136-948b-a7404f7330a7')\"\n",
              "              title=\"Convert this dataframe to an interactive table.\"\n",
              "              style=\"display:none;\">\n",
              "        \n",
              "  <svg xmlns=\"http://www.w3.org/2000/svg\" height=\"24px\"viewBox=\"0 0 24 24\"\n",
              "       width=\"24px\">\n",
              "    <path d=\"M0 0h24v24H0V0z\" fill=\"none\"/>\n",
              "    <path d=\"M18.56 5.44l.94 2.06.94-2.06 2.06-.94-2.06-.94-.94-2.06-.94 2.06-2.06.94zm-11 1L8.5 8.5l.94-2.06 2.06-.94-2.06-.94L8.5 2.5l-.94 2.06-2.06.94zm10 10l.94 2.06.94-2.06 2.06-.94-2.06-.94-.94-2.06-.94 2.06-2.06.94z\"/><path d=\"M17.41 7.96l-1.37-1.37c-.4-.4-.92-.59-1.43-.59-.52 0-1.04.2-1.43.59L10.3 9.45l-7.72 7.72c-.78.78-.78 2.05 0 2.83L4 21.41c.39.39.9.59 1.41.59.51 0 1.02-.2 1.41-.59l7.78-7.78 2.81-2.81c.8-.78.8-2.07 0-2.86zM5.41 20L4 18.59l7.72-7.72 1.47 1.35L5.41 20z\"/>\n",
              "  </svg>\n",
              "      </button>\n",
              "      \n",
              "  <style>\n",
              "    .colab-df-container {\n",
              "      display:flex;\n",
              "      flex-wrap:wrap;\n",
              "      gap: 12px;\n",
              "    }\n",
              "\n",
              "    .colab-df-convert {\n",
              "      background-color: #E8F0FE;\n",
              "      border: none;\n",
              "      border-radius: 50%;\n",
              "      cursor: pointer;\n",
              "      display: none;\n",
              "      fill: #1967D2;\n",
              "      height: 32px;\n",
              "      padding: 0 0 0 0;\n",
              "      width: 32px;\n",
              "    }\n",
              "\n",
              "    .colab-df-convert:hover {\n",
              "      background-color: #E2EBFA;\n",
              "      box-shadow: 0px 1px 2px rgba(60, 64, 67, 0.3), 0px 1px 3px 1px rgba(60, 64, 67, 0.15);\n",
              "      fill: #174EA6;\n",
              "    }\n",
              "\n",
              "    [theme=dark] .colab-df-convert {\n",
              "      background-color: #3B4455;\n",
              "      fill: #D2E3FC;\n",
              "    }\n",
              "\n",
              "    [theme=dark] .colab-df-convert:hover {\n",
              "      background-color: #434B5C;\n",
              "      box-shadow: 0px 1px 3px 1px rgba(0, 0, 0, 0.15);\n",
              "      filter: drop-shadow(0px 1px 2px rgba(0, 0, 0, 0.3));\n",
              "      fill: #FFFFFF;\n",
              "    }\n",
              "  </style>\n",
              "\n",
              "      <script>\n",
              "        const buttonEl =\n",
              "          document.querySelector('#df-e01c0f03-331a-4136-948b-a7404f7330a7 button.colab-df-convert');\n",
              "        buttonEl.style.display =\n",
              "          google.colab.kernel.accessAllowed ? 'block' : 'none';\n",
              "\n",
              "        async function convertToInteractive(key) {\n",
              "          const element = document.querySelector('#df-e01c0f03-331a-4136-948b-a7404f7330a7');\n",
              "          const dataTable =\n",
              "            await google.colab.kernel.invokeFunction('convertToInteractive',\n",
              "                                                     [key], {});\n",
              "          if (!dataTable) return;\n",
              "\n",
              "          const docLinkHtml = 'Like what you see? Visit the ' +\n",
              "            '<a target=\"_blank\" href=https://colab.research.google.com/notebooks/data_table.ipynb>data table notebook</a>'\n",
              "            + ' to learn more about interactive tables.';\n",
              "          element.innerHTML = '';\n",
              "          dataTable['output_type'] = 'display_data';\n",
              "          await google.colab.output.renderOutput(dataTable, element);\n",
              "          const docLink = document.createElement('div');\n",
              "          docLink.innerHTML = docLinkHtml;\n",
              "          element.appendChild(docLink);\n",
              "        }\n",
              "      </script>\n",
              "    </div>\n",
              "  </div>\n",
              "  "
            ]
          },
          "metadata": {},
          "execution_count": 10
        }
      ]
    },
    {
      "cell_type": "code",
      "source": [
        "# Dataset shape\n",
        "dataset.shape"
      ],
      "metadata": {
        "colab": {
          "base_uri": "https://localhost:8080/"
        },
        "id": "-Bbau_EnPqsN",
        "outputId": "5550bef3-d78d-4d93-960f-6645bf2a561d"
      },
      "execution_count": 11,
      "outputs": [
        {
          "output_type": "execute_result",
          "data": {
            "text/plain": [
              "(2845342, 47)"
            ]
          },
          "metadata": {},
          "execution_count": 11
        }
      ]
    },
    {
      "cell_type": "markdown",
      "source": [
        "**NOTE:** The dataset has **47** features and **2.8 million** records"
      ],
      "metadata": {
        "id": "iMbO55GVPuNN"
      }
    },
    {
      "cell_type": "code",
      "source": [
        "# Dataset information\n",
        "dataset.info()"
      ],
      "metadata": {
        "colab": {
          "base_uri": "https://localhost:8080/"
        },
        "id": "bSvLKa7iMZAn",
        "outputId": "0ddc1f7c-3477-4aa5-a78c-d62a27d2a1e1"
      },
      "execution_count": 12,
      "outputs": [
        {
          "output_type": "stream",
          "name": "stdout",
          "text": [
            "<class 'pandas.core.frame.DataFrame'>\n",
            "RangeIndex: 2845342 entries, 0 to 2845341\n",
            "Data columns (total 47 columns):\n",
            " #   Column                 Dtype  \n",
            "---  ------                 -----  \n",
            " 0   ID                     object \n",
            " 1   Severity               int64  \n",
            " 2   Start_Time             object \n",
            " 3   End_Time               object \n",
            " 4   Start_Lat              float64\n",
            " 5   Start_Lng              float64\n",
            " 6   End_Lat                float64\n",
            " 7   End_Lng                float64\n",
            " 8   Distance(mi)           float64\n",
            " 9   Description            object \n",
            " 10  Number                 float64\n",
            " 11  Street                 object \n",
            " 12  Side                   object \n",
            " 13  City                   object \n",
            " 14  County                 object \n",
            " 15  State                  object \n",
            " 16  Zipcode                object \n",
            " 17  Country                object \n",
            " 18  Timezone               object \n",
            " 19  Airport_Code           object \n",
            " 20  Weather_Timestamp      object \n",
            " 21  Temperature(F)         float64\n",
            " 22  Wind_Chill(F)          float64\n",
            " 23  Humidity(%)            float64\n",
            " 24  Pressure(in)           float64\n",
            " 25  Visibility(mi)         float64\n",
            " 26  Wind_Direction         object \n",
            " 27  Wind_Speed(mph)        float64\n",
            " 28  Precipitation(in)      float64\n",
            " 29  Weather_Condition      object \n",
            " 30  Amenity                bool   \n",
            " 31  Bump                   bool   \n",
            " 32  Crossing               bool   \n",
            " 33  Give_Way               bool   \n",
            " 34  Junction               bool   \n",
            " 35  No_Exit                bool   \n",
            " 36  Railway                bool   \n",
            " 37  Roundabout             bool   \n",
            " 38  Station                bool   \n",
            " 39  Stop                   bool   \n",
            " 40  Traffic_Calming        bool   \n",
            " 41  Traffic_Signal         bool   \n",
            " 42  Turning_Loop           bool   \n",
            " 43  Sunrise_Sunset         object \n",
            " 44  Civil_Twilight         object \n",
            " 45  Nautical_Twilight      object \n",
            " 46  Astronomical_Twilight  object \n",
            "dtypes: bool(13), float64(13), int64(1), object(20)\n",
            "memory usage: 773.4+ MB\n"
          ]
        }
      ]
    },
    {
      "cell_type": "markdown",
      "source": [
        "**NOTE :** The dataset contain **47** features with types as followings :- \n",
        "* Numerical : 14 ( float:13 , int:1 )\n",
        "* Cartegorical : 33 ( string:20 , bool:13 )"
      ],
      "metadata": {
        "id": "ml0Jap2fRXRV"
      }
    },
    {
      "cell_type": "code",
      "source": [
        "# Dataset statistics\n",
        "dataset.describe()"
      ],
      "metadata": {
        "colab": {
          "base_uri": "https://localhost:8080/",
          "height": 364
        },
        "id": "PPO3D5PUMZDc",
        "outputId": "d47c721e-fdfd-44fd-ee0e-003aaf040486"
      },
      "execution_count": 13,
      "outputs": [
        {
          "output_type": "execute_result",
          "data": {
            "text/plain": [
              "           Severity     Start_Lat     Start_Lng       End_Lat       End_Lng  \\\n",
              "count  2.845342e+06  2.845342e+06  2.845342e+06  2.845342e+06  2.845342e+06   \n",
              "mean   2.137572e+00  3.624520e+01 -9.711463e+01  3.624532e+01 -9.711439e+01   \n",
              "std    4.787216e-01  5.363797e+00  1.831782e+01  5.363873e+00  1.831763e+01   \n",
              "min    1.000000e+00  2.456603e+01 -1.245481e+02  2.456601e+01 -1.245457e+02   \n",
              "25%    2.000000e+00  3.344517e+01 -1.180331e+02  3.344628e+01 -1.180333e+02   \n",
              "50%    2.000000e+00  3.609861e+01 -9.241808e+01  3.609799e+01 -9.241772e+01   \n",
              "75%    2.000000e+00  4.016024e+01 -8.037243e+01  4.016105e+01 -8.037338e+01   \n",
              "max    4.000000e+00  4.900058e+01 -6.711317e+01  4.907500e+01 -6.710924e+01   \n",
              "\n",
              "       Distance(mi)        Number  Temperature(F)  Wind_Chill(F)  \\\n",
              "count  2.845342e+06  1.101431e+06    2.776068e+06   2.375699e+06   \n",
              "mean   7.026779e-01  8.089408e+03    6.179356e+01   5.965823e+01   \n",
              "std    1.560361e+00  1.836009e+04    1.862263e+01   2.116097e+01   \n",
              "min    0.000000e+00  0.000000e+00   -8.900000e+01  -8.900000e+01   \n",
              "25%    5.200000e-02  1.270000e+03    5.000000e+01   4.600000e+01   \n",
              "50%    2.440000e-01  4.007000e+03    6.400000e+01   6.300000e+01   \n",
              "75%    7.640000e-01  9.567000e+03    7.600000e+01   7.600000e+01   \n",
              "max    1.551860e+02  9.999997e+06    1.960000e+02   1.960000e+02   \n",
              "\n",
              "        Humidity(%)  Pressure(in)  Visibility(mi)  Wind_Speed(mph)  \\\n",
              "count  2.772250e+06  2.786142e+06    2.774796e+06     2.687398e+06   \n",
              "mean   6.436545e+01  2.947234e+01    9.099391e+00     7.395044e+00   \n",
              "std    2.287457e+01  1.045286e+00    2.717546e+00     5.527454e+00   \n",
              "min    1.000000e+00  0.000000e+00    0.000000e+00     0.000000e+00   \n",
              "25%    4.800000e+01  2.931000e+01    1.000000e+01     3.500000e+00   \n",
              "50%    6.700000e+01  2.982000e+01    1.000000e+01     7.000000e+00   \n",
              "75%    8.300000e+01  3.001000e+01    1.000000e+01     1.000000e+01   \n",
              "max    1.000000e+02  5.890000e+01    1.400000e+02     1.087000e+03   \n",
              "\n",
              "       Precipitation(in)  \n",
              "count       2.295884e+06  \n",
              "mean        7.016940e-03  \n",
              "std         9.348831e-02  \n",
              "min         0.000000e+00  \n",
              "25%         0.000000e+00  \n",
              "50%         0.000000e+00  \n",
              "75%         0.000000e+00  \n",
              "max         2.400000e+01  "
            ],
            "text/html": [
              "\n",
              "  <div id=\"df-01330ecc-61a5-4621-8cb7-d48feb000893\">\n",
              "    <div class=\"colab-df-container\">\n",
              "      <div>\n",
              "<style scoped>\n",
              "    .dataframe tbody tr th:only-of-type {\n",
              "        vertical-align: middle;\n",
              "    }\n",
              "\n",
              "    .dataframe tbody tr th {\n",
              "        vertical-align: top;\n",
              "    }\n",
              "\n",
              "    .dataframe thead th {\n",
              "        text-align: right;\n",
              "    }\n",
              "</style>\n",
              "<table border=\"1\" class=\"dataframe\">\n",
              "  <thead>\n",
              "    <tr style=\"text-align: right;\">\n",
              "      <th></th>\n",
              "      <th>Severity</th>\n",
              "      <th>Start_Lat</th>\n",
              "      <th>Start_Lng</th>\n",
              "      <th>End_Lat</th>\n",
              "      <th>End_Lng</th>\n",
              "      <th>Distance(mi)</th>\n",
              "      <th>Number</th>\n",
              "      <th>Temperature(F)</th>\n",
              "      <th>Wind_Chill(F)</th>\n",
              "      <th>Humidity(%)</th>\n",
              "      <th>Pressure(in)</th>\n",
              "      <th>Visibility(mi)</th>\n",
              "      <th>Wind_Speed(mph)</th>\n",
              "      <th>Precipitation(in)</th>\n",
              "    </tr>\n",
              "  </thead>\n",
              "  <tbody>\n",
              "    <tr>\n",
              "      <th>count</th>\n",
              "      <td>2.845342e+06</td>\n",
              "      <td>2.845342e+06</td>\n",
              "      <td>2.845342e+06</td>\n",
              "      <td>2.845342e+06</td>\n",
              "      <td>2.845342e+06</td>\n",
              "      <td>2.845342e+06</td>\n",
              "      <td>1.101431e+06</td>\n",
              "      <td>2.776068e+06</td>\n",
              "      <td>2.375699e+06</td>\n",
              "      <td>2.772250e+06</td>\n",
              "      <td>2.786142e+06</td>\n",
              "      <td>2.774796e+06</td>\n",
              "      <td>2.687398e+06</td>\n",
              "      <td>2.295884e+06</td>\n",
              "    </tr>\n",
              "    <tr>\n",
              "      <th>mean</th>\n",
              "      <td>2.137572e+00</td>\n",
              "      <td>3.624520e+01</td>\n",
              "      <td>-9.711463e+01</td>\n",
              "      <td>3.624532e+01</td>\n",
              "      <td>-9.711439e+01</td>\n",
              "      <td>7.026779e-01</td>\n",
              "      <td>8.089408e+03</td>\n",
              "      <td>6.179356e+01</td>\n",
              "      <td>5.965823e+01</td>\n",
              "      <td>6.436545e+01</td>\n",
              "      <td>2.947234e+01</td>\n",
              "      <td>9.099391e+00</td>\n",
              "      <td>7.395044e+00</td>\n",
              "      <td>7.016940e-03</td>\n",
              "    </tr>\n",
              "    <tr>\n",
              "      <th>std</th>\n",
              "      <td>4.787216e-01</td>\n",
              "      <td>5.363797e+00</td>\n",
              "      <td>1.831782e+01</td>\n",
              "      <td>5.363873e+00</td>\n",
              "      <td>1.831763e+01</td>\n",
              "      <td>1.560361e+00</td>\n",
              "      <td>1.836009e+04</td>\n",
              "      <td>1.862263e+01</td>\n",
              "      <td>2.116097e+01</td>\n",
              "      <td>2.287457e+01</td>\n",
              "      <td>1.045286e+00</td>\n",
              "      <td>2.717546e+00</td>\n",
              "      <td>5.527454e+00</td>\n",
              "      <td>9.348831e-02</td>\n",
              "    </tr>\n",
              "    <tr>\n",
              "      <th>min</th>\n",
              "      <td>1.000000e+00</td>\n",
              "      <td>2.456603e+01</td>\n",
              "      <td>-1.245481e+02</td>\n",
              "      <td>2.456601e+01</td>\n",
              "      <td>-1.245457e+02</td>\n",
              "      <td>0.000000e+00</td>\n",
              "      <td>0.000000e+00</td>\n",
              "      <td>-8.900000e+01</td>\n",
              "      <td>-8.900000e+01</td>\n",
              "      <td>1.000000e+00</td>\n",
              "      <td>0.000000e+00</td>\n",
              "      <td>0.000000e+00</td>\n",
              "      <td>0.000000e+00</td>\n",
              "      <td>0.000000e+00</td>\n",
              "    </tr>\n",
              "    <tr>\n",
              "      <th>25%</th>\n",
              "      <td>2.000000e+00</td>\n",
              "      <td>3.344517e+01</td>\n",
              "      <td>-1.180331e+02</td>\n",
              "      <td>3.344628e+01</td>\n",
              "      <td>-1.180333e+02</td>\n",
              "      <td>5.200000e-02</td>\n",
              "      <td>1.270000e+03</td>\n",
              "      <td>5.000000e+01</td>\n",
              "      <td>4.600000e+01</td>\n",
              "      <td>4.800000e+01</td>\n",
              "      <td>2.931000e+01</td>\n",
              "      <td>1.000000e+01</td>\n",
              "      <td>3.500000e+00</td>\n",
              "      <td>0.000000e+00</td>\n",
              "    </tr>\n",
              "    <tr>\n",
              "      <th>50%</th>\n",
              "      <td>2.000000e+00</td>\n",
              "      <td>3.609861e+01</td>\n",
              "      <td>-9.241808e+01</td>\n",
              "      <td>3.609799e+01</td>\n",
              "      <td>-9.241772e+01</td>\n",
              "      <td>2.440000e-01</td>\n",
              "      <td>4.007000e+03</td>\n",
              "      <td>6.400000e+01</td>\n",
              "      <td>6.300000e+01</td>\n",
              "      <td>6.700000e+01</td>\n",
              "      <td>2.982000e+01</td>\n",
              "      <td>1.000000e+01</td>\n",
              "      <td>7.000000e+00</td>\n",
              "      <td>0.000000e+00</td>\n",
              "    </tr>\n",
              "    <tr>\n",
              "      <th>75%</th>\n",
              "      <td>2.000000e+00</td>\n",
              "      <td>4.016024e+01</td>\n",
              "      <td>-8.037243e+01</td>\n",
              "      <td>4.016105e+01</td>\n",
              "      <td>-8.037338e+01</td>\n",
              "      <td>7.640000e-01</td>\n",
              "      <td>9.567000e+03</td>\n",
              "      <td>7.600000e+01</td>\n",
              "      <td>7.600000e+01</td>\n",
              "      <td>8.300000e+01</td>\n",
              "      <td>3.001000e+01</td>\n",
              "      <td>1.000000e+01</td>\n",
              "      <td>1.000000e+01</td>\n",
              "      <td>0.000000e+00</td>\n",
              "    </tr>\n",
              "    <tr>\n",
              "      <th>max</th>\n",
              "      <td>4.000000e+00</td>\n",
              "      <td>4.900058e+01</td>\n",
              "      <td>-6.711317e+01</td>\n",
              "      <td>4.907500e+01</td>\n",
              "      <td>-6.710924e+01</td>\n",
              "      <td>1.551860e+02</td>\n",
              "      <td>9.999997e+06</td>\n",
              "      <td>1.960000e+02</td>\n",
              "      <td>1.960000e+02</td>\n",
              "      <td>1.000000e+02</td>\n",
              "      <td>5.890000e+01</td>\n",
              "      <td>1.400000e+02</td>\n",
              "      <td>1.087000e+03</td>\n",
              "      <td>2.400000e+01</td>\n",
              "    </tr>\n",
              "  </tbody>\n",
              "</table>\n",
              "</div>\n",
              "      <button class=\"colab-df-convert\" onclick=\"convertToInteractive('df-01330ecc-61a5-4621-8cb7-d48feb000893')\"\n",
              "              title=\"Convert this dataframe to an interactive table.\"\n",
              "              style=\"display:none;\">\n",
              "        \n",
              "  <svg xmlns=\"http://www.w3.org/2000/svg\" height=\"24px\"viewBox=\"0 0 24 24\"\n",
              "       width=\"24px\">\n",
              "    <path d=\"M0 0h24v24H0V0z\" fill=\"none\"/>\n",
              "    <path d=\"M18.56 5.44l.94 2.06.94-2.06 2.06-.94-2.06-.94-.94-2.06-.94 2.06-2.06.94zm-11 1L8.5 8.5l.94-2.06 2.06-.94-2.06-.94L8.5 2.5l-.94 2.06-2.06.94zm10 10l.94 2.06.94-2.06 2.06-.94-2.06-.94-.94-2.06-.94 2.06-2.06.94z\"/><path d=\"M17.41 7.96l-1.37-1.37c-.4-.4-.92-.59-1.43-.59-.52 0-1.04.2-1.43.59L10.3 9.45l-7.72 7.72c-.78.78-.78 2.05 0 2.83L4 21.41c.39.39.9.59 1.41.59.51 0 1.02-.2 1.41-.59l7.78-7.78 2.81-2.81c.8-.78.8-2.07 0-2.86zM5.41 20L4 18.59l7.72-7.72 1.47 1.35L5.41 20z\"/>\n",
              "  </svg>\n",
              "      </button>\n",
              "      \n",
              "  <style>\n",
              "    .colab-df-container {\n",
              "      display:flex;\n",
              "      flex-wrap:wrap;\n",
              "      gap: 12px;\n",
              "    }\n",
              "\n",
              "    .colab-df-convert {\n",
              "      background-color: #E8F0FE;\n",
              "      border: none;\n",
              "      border-radius: 50%;\n",
              "      cursor: pointer;\n",
              "      display: none;\n",
              "      fill: #1967D2;\n",
              "      height: 32px;\n",
              "      padding: 0 0 0 0;\n",
              "      width: 32px;\n",
              "    }\n",
              "\n",
              "    .colab-df-convert:hover {\n",
              "      background-color: #E2EBFA;\n",
              "      box-shadow: 0px 1px 2px rgba(60, 64, 67, 0.3), 0px 1px 3px 1px rgba(60, 64, 67, 0.15);\n",
              "      fill: #174EA6;\n",
              "    }\n",
              "\n",
              "    [theme=dark] .colab-df-convert {\n",
              "      background-color: #3B4455;\n",
              "      fill: #D2E3FC;\n",
              "    }\n",
              "\n",
              "    [theme=dark] .colab-df-convert:hover {\n",
              "      background-color: #434B5C;\n",
              "      box-shadow: 0px 1px 3px 1px rgba(0, 0, 0, 0.15);\n",
              "      filter: drop-shadow(0px 1px 2px rgba(0, 0, 0, 0.3));\n",
              "      fill: #FFFFFF;\n",
              "    }\n",
              "  </style>\n",
              "\n",
              "      <script>\n",
              "        const buttonEl =\n",
              "          document.querySelector('#df-01330ecc-61a5-4621-8cb7-d48feb000893 button.colab-df-convert');\n",
              "        buttonEl.style.display =\n",
              "          google.colab.kernel.accessAllowed ? 'block' : 'none';\n",
              "\n",
              "        async function convertToInteractive(key) {\n",
              "          const element = document.querySelector('#df-01330ecc-61a5-4621-8cb7-d48feb000893');\n",
              "          const dataTable =\n",
              "            await google.colab.kernel.invokeFunction('convertToInteractive',\n",
              "                                                     [key], {});\n",
              "          if (!dataTable) return;\n",
              "\n",
              "          const docLinkHtml = 'Like what you see? Visit the ' +\n",
              "            '<a target=\"_blank\" href=https://colab.research.google.com/notebooks/data_table.ipynb>data table notebook</a>'\n",
              "            + ' to learn more about interactive tables.';\n",
              "          element.innerHTML = '';\n",
              "          dataTable['output_type'] = 'display_data';\n",
              "          await google.colab.output.renderOutput(dataTable, element);\n",
              "          const docLink = document.createElement('div');\n",
              "          docLink.innerHTML = docLinkHtml;\n",
              "          element.appendChild(docLink);\n",
              "        }\n",
              "      </script>\n",
              "    </div>\n",
              "  </div>\n",
              "  "
            ]
          },
          "metadata": {},
          "execution_count": 13
        }
      ]
    },
    {
      "cell_type": "markdown",
      "source": [
        "### **2. Data Cleaning**\n",
        "Handling missing values"
      ],
      "metadata": {
        "id": "B-Ar36V_UVmN"
      }
    },
    {
      "cell_type": "code",
      "source": [
        "# Missing values per column\n",
        "missing = dataset.isna().sum().sort_values(ascending=False)\n",
        "missing"
      ],
      "metadata": {
        "colab": {
          "base_uri": "https://localhost:8080/"
        },
        "id": "Mc6l3PYeMZF8",
        "outputId": "8fa6b33b-b595-40aa-d3e5-5e427722c321"
      },
      "execution_count": 14,
      "outputs": [
        {
          "output_type": "execute_result",
          "data": {
            "text/plain": [
              "Number                   1743911\n",
              "Precipitation(in)         549458\n",
              "Wind_Chill(F)             469643\n",
              "Wind_Speed(mph)           157944\n",
              "Wind_Direction             73775\n",
              "Humidity(%)                73092\n",
              "Weather_Condition          70636\n",
              "Visibility(mi)             70546\n",
              "Temperature(F)             69274\n",
              "Pressure(in)               59200\n",
              "Weather_Timestamp          50736\n",
              "Airport_Code                9549\n",
              "Timezone                    3659\n",
              "Nautical_Twilight           2867\n",
              "Civil_Twilight              2867\n",
              "Sunrise_Sunset              2867\n",
              "Astronomical_Twilight       2867\n",
              "Zipcode                     1319\n",
              "City                         137\n",
              "Street                         2\n",
              "Country                        0\n",
              "Junction                       0\n",
              "Start_Time                     0\n",
              "End_Time                       0\n",
              "Start_Lat                      0\n",
              "Turning_Loop                   0\n",
              "Traffic_Signal                 0\n",
              "Traffic_Calming                0\n",
              "Stop                           0\n",
              "Station                        0\n",
              "Roundabout                     0\n",
              "Railway                        0\n",
              "No_Exit                        0\n",
              "Crossing                       0\n",
              "Give_Way                       0\n",
              "Bump                           0\n",
              "Amenity                        0\n",
              "Start_Lng                      0\n",
              "End_Lat                        0\n",
              "End_Lng                        0\n",
              "Distance(mi)                   0\n",
              "Description                    0\n",
              "Severity                       0\n",
              "Side                           0\n",
              "County                         0\n",
              "State                          0\n",
              "ID                             0\n",
              "dtype: int64"
            ]
          },
          "metadata": {},
          "execution_count": 14
        }
      ]
    },
    {
      "cell_type": "code",
      "source": [
        "# Visualize percentage of missing values\n",
        "missing[missing != 0].plot(kind='bar',\n",
        "                            title=\"Missing values percentage\",\n",
        "                            xlabel=\"Features\",\n",
        "                            ylabel=\"Percentage\",\n",
        "                            figsize=(10,5))"
      ],
      "metadata": {
        "colab": {
          "base_uri": "https://localhost:8080/",
          "height": 465
        },
        "id": "snQqFiYqMZIe",
        "outputId": "9c7ce1e5-d69d-4ced-d5cf-27c4539071af"
      },
      "execution_count": 15,
      "outputs": [
        {
          "output_type": "execute_result",
          "data": {
            "text/plain": [
              "<matplotlib.axes._subplots.AxesSubplot at 0x7f482cd016d0>"
            ]
          },
          "metadata": {},
          "execution_count": 15
        },
        {
          "output_type": "display_data",
          "data": {
            "text/plain": [
              "<Figure size 720x360 with 1 Axes>"
            ],
            "image/png": "[encoded data removed]"
          },
          "metadata": {}
        }
      ]
    },
    {
      "cell_type": "code",
      "source": [
        "# fill missing values\n",
        "dataset.fillna(method=\"ffill\", inplace=True)"
      ],
      "metadata": {
        "id": "qdPPE1IpWMVD"
      },
      "execution_count": 18,
      "outputs": []
    },
    {
      "cell_type": "code",
      "source": [
        "# Show missing values count again\n",
        "dataset.isna().sum().sort_values(ascending=False)"
      ],
      "metadata": {
        "colab": {
          "base_uri": "https://localhost:8080/"
        },
        "id": "J_zncxzHQ3KO",
        "outputId": "ddf27d62-69b5-4a95-df18-6558d4f98176"
      },
      "execution_count": 19,
      "outputs": [
        {
          "output_type": "execute_result",
          "data": {
            "text/plain": [
              "Number                   14\n",
              "ID                        0\n",
              "No_Exit                   0\n",
              "Wind_Direction            0\n",
              "Wind_Speed(mph)           0\n",
              "Precipitation(in)         0\n",
              "Weather_Condition         0\n",
              "Amenity                   0\n",
              "Bump                      0\n",
              "Crossing                  0\n",
              "Give_Way                  0\n",
              "Junction                  0\n",
              "Railway                   0\n",
              "Pressure(in)              0\n",
              "Roundabout                0\n",
              "Station                   0\n",
              "Stop                      0\n",
              "Traffic_Calming           0\n",
              "Traffic_Signal            0\n",
              "Turning_Loop              0\n",
              "Sunrise_Sunset            0\n",
              "Civil_Twilight            0\n",
              "Nautical_Twilight         0\n",
              "Visibility(mi)            0\n",
              "Humidity(%)               0\n",
              "Severity                  0\n",
              "Wind_Chill(F)             0\n",
              "Start_Time                0\n",
              "End_Time                  0\n",
              "Start_Lat                 0\n",
              "Start_Lng                 0\n",
              "End_Lat                   0\n",
              "End_Lng                   0\n",
              "Distance(mi)              0\n",
              "Description               0\n",
              "Street                    0\n",
              "Side                      0\n",
              "City                      0\n",
              "County                    0\n",
              "State                     0\n",
              "Zipcode                   0\n",
              "Country                   0\n",
              "Timezone                  0\n",
              "Airport_Code              0\n",
              "Weather_Timestamp         0\n",
              "Temperature(F)            0\n",
              "Astronomical_Twilight     0\n",
              "dtype: int64"
            ]
          },
          "metadata": {},
          "execution_count": 19
        }
      ]
    },
    {
      "cell_type": "code",
      "source": [],
      "metadata": {
        "id": "O_hcxrkKQ7XZ"
      },
      "execution_count": null,
      "outputs": []
    },
    {
      "cell_type": "markdown",
      "source": [
        "### **3. EDA**\n",
        "Columns we'll analyze:  \n",
        "* City\n",
        "* Start Time\n",
        "* Start Lat, Start Lng"
      ],
      "metadata": {
        "id": "DBD36tBDRdwt"
      }
    },
    {
      "cell_type": "markdown",
      "source": [
        "#### **City**"
      ],
      "metadata": {
        "id": "kk-HNHvIRq0d"
      }
    },
    {
      "cell_type": "code",
      "source": [
        "# Show city values\n",
        "dataset[\"City\"]"
      ],
      "metadata": {
        "colab": {
          "base_uri": "https://localhost:8080/"
        },
        "id": "Api3bqDRRisu",
        "outputId": "e5227d1e-e14b-4708-c754-67d0e45f7edb"
      },
      "execution_count": 21,
      "outputs": [
        {
          "output_type": "execute_result",
          "data": {
            "text/plain": [
              "0               Dublin\n",
              "1               Dayton\n",
              "2           Cincinnati\n",
              "3                Akron\n",
              "4           Cincinnati\n",
              "              ...     \n",
              "2845337      Riverside\n",
              "2845338      San Diego\n",
              "2845339         Orange\n",
              "2845340    Culver City\n",
              "2845341       Highland\n",
              "Name: City, Length: 2845342, dtype: object"
            ]
          },
          "metadata": {},
          "execution_count": 21
        }
      ]
    },
    {
      "cell_type": "code",
      "source": [
        "# Feature unique values count\n",
        "len(dataset[\"City\"].unique())"
      ],
      "metadata": {
        "colab": {
          "base_uri": "https://localhost:8080/"
        },
        "id": "y3-Y8tIIRyKN",
        "outputId": "fe85a200-341e-4504-fe2e-f5d1eb5b54b2"
      },
      "execution_count": 23,
      "outputs": [
        {
          "output_type": "execute_result",
          "data": {
            "text/plain": [
              "11681"
            ]
          },
          "metadata": {},
          "execution_count": 23
        }
      ]
    },
    {
      "cell_type": "markdown",
      "source": [
        "**NOTE:** So `City` feature has **11681** unique value, let's show the count of every unique value"
      ],
      "metadata": {
        "id": "m8umRaqDR_GN"
      }
    },
    {
      "cell_type": "code",
      "source": [
        "# Count of every unique value\n",
        "cities_by_accident = dataset[\"City\"].value_counts()\n",
        "cities_by_accident"
      ],
      "metadata": {
        "colab": {
          "base_uri": "https://localhost:8080/"
        },
        "id": "ESg8EE0GR5yY",
        "outputId": "0ead517f-9629-448d-8fc1-7f1c3560b97b"
      },
      "execution_count": 26,
      "outputs": [
        {
          "output_type": "execute_result",
          "data": {
            "text/plain": [
              "Miami                           106969\n",
              "Los Angeles                      68958\n",
              "Orlando                          54696\n",
              "Dallas                           41980\n",
              "Houston                          39451\n",
              "                                 ...  \n",
              "Ridgedale                            1\n",
              "Sekiu                                1\n",
              "Wooldridge                           1\n",
              "Bullock                              1\n",
              "American Fork-Pleasant Grove         1\n",
              "Name: City, Length: 11681, dtype: int64"
            ]
          },
          "metadata": {},
          "execution_count": 26
        }
      ]
    },
    {
      "cell_type": "code",
      "source": [
        "# Visualize count of top 20 unique values\n",
        "cities_by_accident[0:20].plot(kind='bar',\n",
        "                              title=\"Unique Value\",\n",
        "                              xlabel=\"Features\",\n",
        "                              ylabel=\"Count\",\n",
        "                              figsize=(10,5))"
      ],
      "metadata": {
        "colab": {
          "base_uri": "https://localhost:8080/",
          "height": 420
        },
        "id": "UHqVgyedSa50",
        "outputId": "759cd3fd-c072-4fd6-d017-226cda89e16f"
      },
      "execution_count": 32,
      "outputs": [
        {
          "output_type": "execute_result",
          "data": {
            "text/plain": [
              "<matplotlib.axes._subplots.AxesSubplot at 0x7f481e4e60a0>"
            ]
          },
          "metadata": {},
          "execution_count": 32
        },
        {
          "output_type": "display_data",
          "data": {
            "text/plain": [
              "<Figure size 720x360 with 1 Axes>"
            ],
            "image/png": "[encoded data removed]"
          },
          "metadata": {}
        }
      ]
    },
    {
      "cell_type": "markdown",
      "source": [
        "**CONCLUSION:**\n",
        "* `Miami` city has the most value for accident"
      ],
      "metadata": {
        "id": "QC7-MPx9Tj-M"
      }
    },
    {
      "cell_type": "markdown",
      "source": [
        "#### **Start Time**"
      ],
      "metadata": {
        "id": "GI5mqNQtVYZU"
      }
    },
    {
      "cell_type": "code",
      "source": [
        "# Show start time values\n",
        "dataset[\"Start_Time\"]"
      ],
      "metadata": {
        "colab": {
          "base_uri": "https://localhost:8080/"
        },
        "id": "pgoshNdmS70s",
        "outputId": "467719c2-3dfb-48c1-838c-97a0a28bdf0d"
      },
      "execution_count": 33,
      "outputs": [
        {
          "output_type": "execute_result",
          "data": {
            "text/plain": [
              "0          2016-02-08 00:37:08\n",
              "1          2016-02-08 05:56:20\n",
              "2          2016-02-08 06:15:39\n",
              "3          2016-02-08 06:51:45\n",
              "4          2016-02-08 07:53:43\n",
              "                  ...         \n",
              "2845337    2019-08-23 18:03:25\n",
              "2845338    2019-08-23 19:11:30\n",
              "2845339    2019-08-23 19:00:21\n",
              "2845340    2019-08-23 19:00:21\n",
              "2845341    2019-08-23 18:52:06\n",
              "Name: Start_Time, Length: 2845342, dtype: object"
            ]
          },
          "metadata": {},
          "execution_count": 33
        }
      ]
    },
    {
      "cell_type": "code",
      "source": [
        "# Convert to datetime\n",
        "dataset.Start_Time = pd.to_datetime(dataset.Start_Time)"
      ],
      "metadata": {
        "id": "_mKI-xStS73P"
      },
      "execution_count": 35,
      "outputs": []
    },
    {
      "cell_type": "code",
      "source": [
        "# Visualize start time by hour\n",
        "sns.distplot(dataset.Start_Time.dt.hour, bins=24, kde=False, norm_hist=True)"
      ],
      "metadata": {
        "colab": {
          "base_uri": "https://localhost:8080/",
          "height": 297
        },
        "id": "zx_YP2OKS758",
        "outputId": "439233d9-4c13-4629-e4a6-86d4958cef17"
      },
      "execution_count": 39,
      "outputs": [
        {
          "output_type": "execute_result",
          "data": {
            "text/plain": [
              "<matplotlib.axes._subplots.AxesSubplot at 0x7f481e390640>"
            ]
          },
          "metadata": {},
          "execution_count": 39
        },
        {
          "output_type": "display_data",
          "data": {
            "text/plain": [
              "<Figure size 432x288 with 1 Axes>"
            ],
            "image/png": "[encoded data removed]"
          },
          "metadata": {}
        }
      ]
    },
    {
      "cell_type": "markdown",
      "source": [
        "**CONCLUSIONS:**   \n",
        "* A high percentage of accidents occur between 6am to 10am\n",
        "* Next higest percentage is 3 pm to 6 pm."
      ],
      "metadata": {
        "id": "FSeu0CigWO6l"
      }
    },
    {
      "cell_type": "code",
      "source": [
        "# Visualize start time by days \n",
        "sns.distplot(dataset.Start_Time.dt.dayofweek, bins=7, kde=False, norm_hist=True)"
      ],
      "metadata": {
        "colab": {
          "base_uri": "https://localhost:8080/",
          "height": 297
        },
        "id": "PKm8sXRCVzI3",
        "outputId": "87bc4df4-36f6-46bd-e856-6782d54f98b8"
      },
      "execution_count": 44,
      "outputs": [
        {
          "output_type": "execute_result",
          "data": {
            "text/plain": [
              "<matplotlib.axes._subplots.AxesSubplot at 0x7f481b618460>"
            ]
          },
          "metadata": {},
          "execution_count": 44
        },
        {
          "output_type": "display_data",
          "data": {
            "text/plain": [
              "<Figure size 432x288 with 1 Axes>"
            ],
            "image/png": "[encoded data removed]"
          },
          "metadata": {}
        }
      ]
    },
    {
      "cell_type": "markdown",
      "source": [
        "#### **Start Latitude & Longitude**"
      ],
      "metadata": {
        "id": "Ezc8IJuIblVq"
      }
    },
    {
      "cell_type": "code",
      "source": [
        "# Show strat latitude values\n",
        "dataset[\"Start_Lat\"]"
      ],
      "metadata": {
        "colab": {
          "base_uri": "https://localhost:8080/"
        },
        "id": "7hkERTlbWfbS",
        "outputId": "d65c95d2-f7b8-4e8a-95ad-e22bea461ba9"
      },
      "execution_count": 49,
      "outputs": [
        {
          "output_type": "execute_result",
          "data": {
            "text/plain": [
              "0          40.108910\n",
              "1          39.865420\n",
              "2          39.102660\n",
              "3          41.062130\n",
              "4          39.172393\n",
              "             ...    \n",
              "2845337    34.002480\n",
              "2845338    32.766960\n",
              "2845339    33.775450\n",
              "2845340    33.992460\n",
              "2845341    34.133930\n",
              "Name: Start_Lat, Length: 2845342, dtype: float64"
            ]
          },
          "metadata": {},
          "execution_count": 49
        }
      ]
    },
    {
      "cell_type": "code",
      "source": [
        "# Show strat longitude values\n",
        "dataset[\"Start_Lng\"]"
      ],
      "metadata": {
        "colab": {
          "base_uri": "https://localhost:8080/"
        },
        "id": "fEviv0bJWfdn",
        "outputId": "4e3724b0-2160-47b5-d0b7-2db83879a3c1"
      },
      "execution_count": 51,
      "outputs": [
        {
          "output_type": "execute_result",
          "data": {
            "text/plain": [
              "0          -83.092860\n",
              "1          -84.062800\n",
              "2          -84.524680\n",
              "3          -81.537840\n",
              "4          -84.492792\n",
              "              ...    \n",
              "2845337   -117.379360\n",
              "2845338   -117.148060\n",
              "2845339   -117.847790\n",
              "2845340   -118.403020\n",
              "2845341   -117.230920\n",
              "Name: Start_Lng, Length: 2845342, dtype: float64"
            ]
          },
          "metadata": {},
          "execution_count": 51
        }
      ]
    },
    {
      "cell_type": "code",
      "source": [
        "# Take sample of the dataset\n",
        "sample = dataset.sample(int(0.1 * len(dataset)))\n",
        "sample"
      ],
      "metadata": {
        "colab": {
          "base_uri": "https://localhost:8080/",
          "height": 852
        },
        "id": "bz41iFfmWff1",
        "outputId": "ef1c3d58-c18b-4fe5-8145-221ca21a756d"
      },
      "execution_count": 53,
      "outputs": [
        {
          "output_type": "execute_result",
          "data": {
            "text/plain": [
              "                ID  Severity          Start_Time             End_Time  \\\n",
              "27093      A-27094         2 2016-08-31 13:25:16  2016-08-31 19:25:16   \n",
              "263758    A-263759         2 2021-09-26 00:00:15  2021-09-26 01:27:16   \n",
              "2832208  A-2832209         3 2019-07-26 13:13:59  2019-07-26 13:42:14   \n",
              "614418    A-614419         2 2021-08-20 14:00:27  2021-08-20 14:20:27   \n",
              "624947    A-624948         2 2021-12-17 17:38:52  2021-12-17 18:07:33   \n",
              "...            ...       ...                 ...                  ...   \n",
              "1778892  A-1778893         2 2020-12-30 11:59:30  2020-12-31 04:29:30   \n",
              "2320607  A-2320608         2 2020-01-29 14:23:00  2020-01-29 14:57:29   \n",
              "2391550  A-2391551         2 2019-12-14 12:50:03  2019-12-14 16:50:03   \n",
              "2697630  A-2697631         2 2018-01-02 12:19:07  2018-01-02 18:19:07   \n",
              "200746    A-200747         2 2017-06-30 17:36:17  2017-06-30 23:36:17   \n",
              "\n",
              "         Start_Lat   Start_Lng    End_Lat     End_Lng  Distance(mi)  \\\n",
              "27093    39.105925  -94.728330  39.105806  -94.724935         0.182   \n",
              "263758   38.903111  -77.024609  38.903583  -77.025982         0.081   \n",
              "2832208  26.778160  -80.098500  26.788270  -80.098790         0.699   \n",
              "614418   25.686920  -80.416652  25.685286  -80.415632         0.130   \n",
              "624947   32.897750 -117.116060  32.906463 -117.116101         0.602   \n",
              "...            ...         ...        ...         ...           ...   \n",
              "1778892  38.746129  -77.522953  38.754669  -77.527993         0.650   \n",
              "2320607  36.964086 -121.992406  36.964086 -121.992406         0.000   \n",
              "2391550  45.371920 -122.744810  45.371920 -122.744810         0.000   \n",
              "2697630  33.880430 -118.103880  33.878950 -118.103840         0.102   \n",
              "200746   39.027000  -94.243860  39.028120  -94.253280         0.512   \n",
              "\n",
              "                                               Description  ...  Roundabout  \\\n",
              "27093                      At 57th St/Exit 417 - Accident.  ...       False   \n",
              "263758   Incident on MASSACHUSETTS AVE near MASSACHUSET...  ...       False   \n",
              "2832208             At Blue Heron Blvd/Exit 76 - Accident.  ...       False   \n",
              "614418   Slow traffic on FL-825 - FL-94 from SW 86th St...  ...       False   \n",
              "624947   Stationary traffic on I-15 N - Escondido Fwy N...  ...       False   \n",
              "...                                                    ...  ...         ...   \n",
              "1778892  Stationary traffic on VA-234 Byp from VA-28/No...  ...       False   \n",
              "2320607                             At 7th Ave - Accident.  ...       False   \n",
              "2391550                         At I-5 (South) - Accident.  ...       False   \n",
              "2697630                          Ramp to CA-91 - Accident.  ...       False   \n",
              "200746              At Adams Dairy Pky/Exit 21 - Accident.  ...       False   \n",
              "\n",
              "        Station   Stop Traffic_Calming Traffic_Signal Turning_Loop  \\\n",
              "27093     False  False           False          False        False   \n",
              "263758    False  False           False          False        False   \n",
              "2832208   False  False           False          False        False   \n",
              "614418    False  False           False          False        False   \n",
              "624947    False  False           False          False        False   \n",
              "...         ...    ...             ...            ...          ...   \n",
              "1778892   False  False           False          False        False   \n",
              "2320607    True   True           False          False        False   \n",
              "2391550   False  False           False          False        False   \n",
              "2697630   False  False           False          False        False   \n",
              "200746    False  False           False          False        False   \n",
              "\n",
              "        Sunrise_Sunset Civil_Twilight Nautical_Twilight Astronomical_Twilight  \n",
              "27093              Day            Day               Day                   Day  \n",
              "263758           Night          Night             Night                 Night  \n",
              "2832208            Day            Day               Day                   Day  \n",
              "614418             Day            Day               Day                   Day  \n",
              "624947           Night          Night               Day                   Day  \n",
              "...                ...            ...               ...                   ...  \n",
              "1778892            Day            Day               Day                   Day  \n",
              "2320607            Day            Day               Day                   Day  \n",
              "2391550            Day            Day               Day                   Day  \n",
              "2697630            Day            Day               Day                   Day  \n",
              "200746             Day            Day               Day                   Day  \n",
              "\n",
              "[284534 rows x 47 columns]"
            ],
            "text/html": [
              "\n",
              "  <div id=\"df-9b7f419b-c0eb-472c-aa09-95fd208fc362\">\n",
              "    <div class=\"colab-df-container\">\n",
              "      <div>\n",
              "<style scoped>\n",
              "    .dataframe tbody tr th:only-of-type {\n",
              "        vertical-align: middle;\n",
              "    }\n",
              "\n",
              "    .dataframe tbody tr th {\n",
              "        vertical-align: top;\n",
              "    }\n",
              "\n",
              "    .dataframe thead th {\n",
              "        text-align: right;\n",
              "    }\n",
              "</style>\n",
              "<table border=\"1\" class=\"dataframe\">\n",
              "  <thead>\n",
              "    <tr style=\"text-align: right;\">\n",
              "      <th></th>\n",
              "      <th>ID</th>\n",
              "      <th>Severity</th>\n",
              "      <th>Start_Time</th>\n",
              "      <th>End_Time</th>\n",
              "      <th>Start_Lat</th>\n",
              "      <th>Start_Lng</th>\n",
              "      <th>End_Lat</th>\n",
              "      <th>End_Lng</th>\n",
              "      <th>Distance(mi)</th>\n",
              "      <th>Description</th>\n",
              "      <th>...</th>\n",
              "      <th>Roundabout</th>\n",
              "      <th>Station</th>\n",
              "      <th>Stop</th>\n",
              "      <th>Traffic_Calming</th>\n",
              "      <th>Traffic_Signal</th>\n",
              "      <th>Turning_Loop</th>\n",
              "      <th>Sunrise_Sunset</th>\n",
              "      <th>Civil_Twilight</th>\n",
              "      <th>Nautical_Twilight</th>\n",
              "      <th>Astronomical_Twilight</th>\n",
              "    </tr>\n",
              "  </thead>\n",
              "  <tbody>\n",
              "    <tr>\n",
              "      <th>27093</th>\n",
              "      <td>A-27094</td>\n",
              "      <td>2</td>\n",
              "      <td>2016-08-31 13:25:16</td>\n",
              "      <td>2016-08-31 19:25:16</td>\n",
              "      <td>39.105925</td>\n",
              "      <td>-94.728330</td>\n",
              "      <td>39.105806</td>\n",
              "      <td>-94.724935</td>\n",
              "      <td>0.182</td>\n",
              "      <td>At 57th St/Exit 417 - Accident.</td>\n",
              "      <td>...</td>\n",
              "      <td>False</td>\n",
              "      <td>False</td>\n",
              "      <td>False</td>\n",
              "      <td>False</td>\n",
              "      <td>False</td>\n",
              "      <td>False</td>\n",
              "      <td>Day</td>\n",
              "      <td>Day</td>\n",
              "      <td>Day</td>\n",
              "      <td>Day</td>\n",
              "    </tr>\n",
              "    <tr>\n",
              "      <th>263758</th>\n",
              "      <td>A-263759</td>\n",
              "      <td>2</td>\n",
              "      <td>2021-09-26 00:00:15</td>\n",
              "      <td>2021-09-26 01:27:16</td>\n",
              "      <td>38.903111</td>\n",
              "      <td>-77.024609</td>\n",
              "      <td>38.903583</td>\n",
              "      <td>-77.025982</td>\n",
              "      <td>0.081</td>\n",
              "      <td>Incident on MASSACHUSETTS AVE near MASSACHUSET...</td>\n",
              "      <td>...</td>\n",
              "      <td>False</td>\n",
              "      <td>False</td>\n",
              "      <td>False</td>\n",
              "      <td>False</td>\n",
              "      <td>False</td>\n",
              "      <td>False</td>\n",
              "      <td>Night</td>\n",
              "      <td>Night</td>\n",
              "      <td>Night</td>\n",
              "      <td>Night</td>\n",
              "    </tr>\n",
              "    <tr>\n",
              "      <th>2832208</th>\n",
              "      <td>A-2832209</td>\n",
              "      <td>3</td>\n",
              "      <td>2019-07-26 13:13:59</td>\n",
              "      <td>2019-07-26 13:42:14</td>\n",
              "      <td>26.778160</td>\n",
              "      <td>-80.098500</td>\n",
              "      <td>26.788270</td>\n",
              "      <td>-80.098790</td>\n",
              "      <td>0.699</td>\n",
              "      <td>At Blue Heron Blvd/Exit 76 - Accident.</td>\n",
              "      <td>...</td>\n",
              "      <td>False</td>\n",
              "      <td>False</td>\n",
              "      <td>False</td>\n",
              "      <td>False</td>\n",
              "      <td>False</td>\n",
              "      <td>False</td>\n",
              "      <td>Day</td>\n",
              "      <td>Day</td>\n",
              "      <td>Day</td>\n",
              "      <td>Day</td>\n",
              "    </tr>\n",
              "    <tr>\n",
              "      <th>614418</th>\n",
              "      <td>A-614419</td>\n",
              "      <td>2</td>\n",
              "      <td>2021-08-20 14:00:27</td>\n",
              "      <td>2021-08-20 14:20:27</td>\n",
              "      <td>25.686920</td>\n",
              "      <td>-80.416652</td>\n",
              "      <td>25.685286</td>\n",
              "      <td>-80.415632</td>\n",
              "      <td>0.130</td>\n",
              "      <td>Slow traffic on FL-825 - FL-94 from SW 86th St...</td>\n",
              "      <td>...</td>\n",
              "      <td>False</td>\n",
              "      <td>False</td>\n",
              "      <td>False</td>\n",
              "      <td>False</td>\n",
              "      <td>False</td>\n",
              "      <td>False</td>\n",
              "      <td>Day</td>\n",
              "      <td>Day</td>\n",
              "      <td>Day</td>\n",
              "      <td>Day</td>\n",
              "    </tr>\n",
              "    <tr>\n",
              "      <th>624947</th>\n",
              "      <td>A-624948</td>\n",
              "      <td>2</td>\n",
              "      <td>2021-12-17 17:38:52</td>\n",
              "      <td>2021-12-17 18:07:33</td>\n",
              "      <td>32.897750</td>\n",
              "      <td>-117.116060</td>\n",
              "      <td>32.906463</td>\n",
              "      <td>-117.116101</td>\n",
              "      <td>0.602</td>\n",
              "      <td>Stationary traffic on I-15 N - Escondido Fwy N...</td>\n",
              "      <td>...</td>\n",
              "      <td>False</td>\n",
              "      <td>False</td>\n",
              "      <td>False</td>\n",
              "      <td>False</td>\n",
              "      <td>False</td>\n",
              "      <td>False</td>\n",
              "      <td>Night</td>\n",
              "      <td>Night</td>\n",
              "      <td>Day</td>\n",
              "      <td>Day</td>\n",
              "    </tr>\n",
              "    <tr>\n",
              "      <th>...</th>\n",
              "      <td>...</td>\n",
              "      <td>...</td>\n",
              "      <td>...</td>\n",
              "      <td>...</td>\n",
              "      <td>...</td>\n",
              "      <td>...</td>\n",
              "      <td>...</td>\n",
              "      <td>...</td>\n",
              "      <td>...</td>\n",
              "      <td>...</td>\n",
              "      <td>...</td>\n",
              "      <td>...</td>\n",
              "      <td>...</td>\n",
              "      <td>...</td>\n",
              "      <td>...</td>\n",
              "      <td>...</td>\n",
              "      <td>...</td>\n",
              "      <td>...</td>\n",
              "      <td>...</td>\n",
              "      <td>...</td>\n",
              "      <td>...</td>\n",
              "    </tr>\n",
              "    <tr>\n",
              "      <th>1778892</th>\n",
              "      <td>A-1778893</td>\n",
              "      <td>2</td>\n",
              "      <td>2020-12-30 11:59:30</td>\n",
              "      <td>2020-12-31 04:29:30</td>\n",
              "      <td>38.746129</td>\n",
              "      <td>-77.522953</td>\n",
              "      <td>38.754669</td>\n",
              "      <td>-77.527993</td>\n",
              "      <td>0.650</td>\n",
              "      <td>Stationary traffic on VA-234 Byp from VA-28/No...</td>\n",
              "      <td>...</td>\n",
              "      <td>False</td>\n",
              "      <td>False</td>\n",
              "      <td>False</td>\n",
              "      <td>False</td>\n",
              "      <td>False</td>\n",
              "      <td>False</td>\n",
              "      <td>Day</td>\n",
              "      <td>Day</td>\n",
              "      <td>Day</td>\n",
              "      <td>Day</td>\n",
              "    </tr>\n",
              "    <tr>\n",
              "      <th>2320607</th>\n",
              "      <td>A-2320608</td>\n",
              "      <td>2</td>\n",
              "      <td>2020-01-29 14:23:00</td>\n",
              "      <td>2020-01-29 14:57:29</td>\n",
              "      <td>36.964086</td>\n",
              "      <td>-121.992406</td>\n",
              "      <td>36.964086</td>\n",
              "      <td>-121.992406</td>\n",
              "      <td>0.000</td>\n",
              "      <td>At 7th Ave - Accident.</td>\n",
              "      <td>...</td>\n",
              "      <td>False</td>\n",
              "      <td>True</td>\n",
              "      <td>True</td>\n",
              "      <td>False</td>\n",
              "      <td>False</td>\n",
              "      <td>False</td>\n",
              "      <td>Day</td>\n",
              "      <td>Day</td>\n",
              "      <td>Day</td>\n",
              "      <td>Day</td>\n",
              "    </tr>\n",
              "    <tr>\n",
              "      <th>2391550</th>\n",
              "      <td>A-2391551</td>\n",
              "      <td>2</td>\n",
              "      <td>2019-12-14 12:50:03</td>\n",
              "      <td>2019-12-14 16:50:03</td>\n",
              "      <td>45.371920</td>\n",
              "      <td>-122.744810</td>\n",
              "      <td>45.371920</td>\n",
              "      <td>-122.744810</td>\n",
              "      <td>0.000</td>\n",
              "      <td>At I-5 (South) - Accident.</td>\n",
              "      <td>...</td>\n",
              "      <td>False</td>\n",
              "      <td>False</td>\n",
              "      <td>False</td>\n",
              "      <td>False</td>\n",
              "      <td>False</td>\n",
              "      <td>False</td>\n",
              "      <td>Day</td>\n",
              "      <td>Day</td>\n",
              "      <td>Day</td>\n",
              "      <td>Day</td>\n",
              "    </tr>\n",
              "    <tr>\n",
              "      <th>2697630</th>\n",
              "      <td>A-2697631</td>\n",
              "      <td>2</td>\n",
              "      <td>2018-01-02 12:19:07</td>\n",
              "      <td>2018-01-02 18:19:07</td>\n",
              "      <td>33.880430</td>\n",
              "      <td>-118.103880</td>\n",
              "      <td>33.878950</td>\n",
              "      <td>-118.103840</td>\n",
              "      <td>0.102</td>\n",
              "      <td>Ramp to CA-91 - Accident.</td>\n",
              "      <td>...</td>\n",
              "      <td>False</td>\n",
              "      <td>False</td>\n",
              "      <td>False</td>\n",
              "      <td>False</td>\n",
              "      <td>False</td>\n",
              "      <td>False</td>\n",
              "      <td>Day</td>\n",
              "      <td>Day</td>\n",
              "      <td>Day</td>\n",
              "      <td>Day</td>\n",
              "    </tr>\n",
              "    <tr>\n",
              "      <th>200746</th>\n",
              "      <td>A-200747</td>\n",
              "      <td>2</td>\n",
              "      <td>2017-06-30 17:36:17</td>\n",
              "      <td>2017-06-30 23:36:17</td>\n",
              "      <td>39.027000</td>\n",
              "      <td>-94.243860</td>\n",
              "      <td>39.028120</td>\n",
              "      <td>-94.253280</td>\n",
              "      <td>0.512</td>\n",
              "      <td>At Adams Dairy Pky/Exit 21 - Accident.</td>\n",
              "      <td>...</td>\n",
              "      <td>False</td>\n",
              "      <td>False</td>\n",
              "      <td>False</td>\n",
              "      <td>False</td>\n",
              "      <td>False</td>\n",
              "      <td>False</td>\n",
              "      <td>Day</td>\n",
              "      <td>Day</td>\n",
              "      <td>Day</td>\n",
              "      <td>Day</td>\n",
              "    </tr>\n",
              "  </tbody>\n",
              "</table>\n",
              "<p>284534 rows × 47 columns</p>\n",
              "</div>\n",
              "      <button class=\"colab-df-convert\" onclick=\"convertToInteractive('df-9b7f419b-c0eb-472c-aa09-95fd208fc362')\"\n",
              "              title=\"Convert this dataframe to an interactive table.\"\n",
              "              style=\"display:none;\">\n",
              "        \n",
              "  <svg xmlns=\"http://www.w3.org/2000/svg\" height=\"24px\"viewBox=\"0 0 24 24\"\n",
              "       width=\"24px\">\n",
              "    <path d=\"M0 0h24v24H0V0z\" fill=\"none\"/>\n",
              "    <path d=\"M18.56 5.44l.94 2.06.94-2.06 2.06-.94-2.06-.94-.94-2.06-.94 2.06-2.06.94zm-11 1L8.5 8.5l.94-2.06 2.06-.94-2.06-.94L8.5 2.5l-.94 2.06-2.06.94zm10 10l.94 2.06.94-2.06 2.06-.94-2.06-.94-.94-2.06-.94 2.06-2.06.94z\"/><path d=\"M17.41 7.96l-1.37-1.37c-.4-.4-.92-.59-1.43-.59-.52 0-1.04.2-1.43.59L10.3 9.45l-7.72 7.72c-.78.78-.78 2.05 0 2.83L4 21.41c.39.39.9.59 1.41.59.51 0 1.02-.2 1.41-.59l7.78-7.78 2.81-2.81c.8-.78.8-2.07 0-2.86zM5.41 20L4 18.59l7.72-7.72 1.47 1.35L5.41 20z\"/>\n",
              "  </svg>\n",
              "      </button>\n",
              "      \n",
              "  <style>\n",
              "    .colab-df-container {\n",
              "      display:flex;\n",
              "      flex-wrap:wrap;\n",
              "      gap: 12px;\n",
              "    }\n",
              "\n",
              "    .colab-df-convert {\n",
              "      background-color: #E8F0FE;\n",
              "      border: none;\n",
              "      border-radius: 50%;\n",
              "      cursor: pointer;\n",
              "      display: none;\n",
              "      fill: #1967D2;\n",
              "      height: 32px;\n",
              "      padding: 0 0 0 0;\n",
              "      width: 32px;\n",
              "    }\n",
              "\n",
              "    .colab-df-convert:hover {\n",
              "      background-color: #E2EBFA;\n",
              "      box-shadow: 0px 1px 2px rgba(60, 64, 67, 0.3), 0px 1px 3px 1px rgba(60, 64, 67, 0.15);\n",
              "      fill: #174EA6;\n",
              "    }\n",
              "\n",
              "    [theme=dark] .colab-df-convert {\n",
              "      background-color: #3B4455;\n",
              "      fill: #D2E3FC;\n",
              "    }\n",
              "\n",
              "    [theme=dark] .colab-df-convert:hover {\n",
              "      background-color: #434B5C;\n",
              "      box-shadow: 0px 1px 3px 1px rgba(0, 0, 0, 0.15);\n",
              "      filter: drop-shadow(0px 1px 2px rgba(0, 0, 0, 0.3));\n",
              "      fill: #FFFFFF;\n",
              "    }\n",
              "  </style>\n",
              "\n",
              "      <script>\n",
              "        const buttonEl =\n",
              "          document.querySelector('#df-9b7f419b-c0eb-472c-aa09-95fd208fc362 button.colab-df-convert');\n",
              "        buttonEl.style.display =\n",
              "          google.colab.kernel.accessAllowed ? 'block' : 'none';\n",
              "\n",
              "        async function convertToInteractive(key) {\n",
              "          const element = document.querySelector('#df-9b7f419b-c0eb-472c-aa09-95fd208fc362');\n",
              "          const dataTable =\n",
              "            await google.colab.kernel.invokeFunction('convertToInteractive',\n",
              "                                                     [key], {});\n",
              "          if (!dataTable) return;\n",
              "\n",
              "          const docLinkHtml = 'Like what you see? Visit the ' +\n",
              "            '<a target=\"_blank\" href=https://colab.research.google.com/notebooks/data_table.ipynb>data table notebook</a>'\n",
              "            + ' to learn more about interactive tables.';\n",
              "          element.innerHTML = '';\n",
              "          dataTable['output_type'] = 'display_data';\n",
              "          await google.colab.output.renderOutput(dataTable, element);\n",
              "          const docLink = document.createElement('div');\n",
              "          docLink.innerHTML = docLinkHtml;\n",
              "          element.appendChild(docLink);\n",
              "        }\n",
              "      </script>\n",
              "    </div>\n",
              "  </div>\n",
              "  "
            ]
          },
          "metadata": {},
          "execution_count": 53
        }
      ]
    },
    {
      "cell_type": "code",
      "source": [
        "# Visualize sample of start lat vs start long\n",
        "sns.scatterplot(x=sample.Start_Lng, y=sample.Start_Lat, size=0.001)"
      ],
      "metadata": {
        "colab": {
          "base_uri": "https://localhost:8080/",
          "height": 299
        },
        "id": "z5hBEc_GdyNo",
        "outputId": "7b055a27-1f38-47b9-82d1-48f57003548a"
      },
      "execution_count": 54,
      "outputs": [
        {
          "output_type": "execute_result",
          "data": {
            "text/plain": [
              "<matplotlib.axes._subplots.AxesSubplot at 0x7f481b600fd0>"
            ]
          },
          "metadata": {},
          "execution_count": 54
        },
        {
          "output_type": "display_data",
          "data": {
            "text/plain": [
              "<Figure size 432x288 with 1 Axes>"
            ],
            "image/png": "[encoded data removed]"
          },
          "metadata": {}
        }
      ]
    },
    {
      "cell_type": "code",
      "source": [
        "# Show example of lat and long \n",
        "lat, lon = dataset.Start_Lat[0], dataset.Start_Lng[0]\n",
        "lat, lon"
      ],
      "metadata": {
        "colab": {
          "base_uri": "https://localhost:8080/"
        },
        "id": "sHulEjw4d9D9",
        "outputId": "394fedf9-553f-4ec3-f720-5e978623b120"
      },
      "execution_count": 57,
      "outputs": [
        {
          "output_type": "execute_result",
          "data": {
            "text/plain": [
              "(40.10891, -83.09286)"
            ]
          },
          "metadata": {},
          "execution_count": 57
        }
      ]
    },
    {
      "cell_type": "code",
      "source": [
        "# Get lat long pairs within sample dataset\n",
        "sample = dataset.sample(int(0.001 * len(dataset)))\n",
        "lat_lon_pairs = list(zip(list(sample.Start_Lat), list(sample.Start_Lng)))"
      ],
      "metadata": {
        "id": "HkMTmFUMd9G5"
      },
      "execution_count": 60,
      "outputs": []
    },
    {
      "cell_type": "code",
      "source": [
        "# Show the map\n",
        "map = folium.Map()\n",
        "HeatMap(lat_lon_pairs).add_to(map)\n",
        "map"
      ],
      "metadata": {
        "colab": {
          "base_uri": "https://localhost:8080/",
          "height": 682
        },
        "id": "Kw9AsjmEd9JU",
        "outputId": "3230cf63-da95-4b41-a2a1-9799561b53b4"
      },
      "execution_count": 61,
      "outputs": [
        {
          "output_type": "execute_result",
          "data": {
            "text/plain": [
              "<folium.folium.Map at 0x7f48197d0ee0>"
            ],
            "text/html": [
              "<div style=\"width:100%;\"><div style=\"position:relative;width:100%;height:0;padding-bottom:60%;\"><span style=\"color:#565656\">Make this Notebook Trusted to load map: File -> Trust Notebook</span><iframe srcdoc=\"&lt;!DOCTYPE html&gt;\n",
              "&lt;html&gt;\n",
              "&lt;head&gt;\n",
              "    \n",
              "    &lt;meta http-equiv=&quot;content-type&quot; content=&quot;text/html; charset=UTF-8&quot; /&gt;\n",
              "    \n",
              "        &lt;script&gt;\n",
              "            L_NO_TOUCH = false;\n",
              "            L_DISABLE_3D = false;\n",
              "        &lt;/script&gt;\n",
              "    \n",
              "    &lt;style&gt;html, body {width: 100%;height: 100%;margin: 0;padding: 0;}&lt;/style&gt;\n",
              "    &lt;style&gt;#map {position:absolute;top:0;bottom:0;right:0;left:0;}&lt;/style&gt;\n",
              "    &lt;script src=&quot;https://cdn.jsdelivr.net/npm/leaflet@1.6.0/dist/leaflet.js&quot;&gt;&lt;/script&gt;\n",
              "    &lt;script src=&quot;https://code.jquery.com/jquery-1.12.4.min.js&quot;&gt;&lt;/script&gt;\n",
              "    &lt;script src=&quot;https://maxcdn.bootstrapcdn.com/bootstrap/3.2.0/js/bootstrap.min.js&quot;&gt;&lt;/script&gt;\n",
              "    &lt;script src=&quot;https://cdnjs.cloudflare.com/ajax/libs/Leaflet.awesome-markers/2.0.2/leaflet.awesome-markers.js&quot;&gt;&lt;/script&gt;\n",
              "    &lt;link rel=&quot;stylesheet&quot; href=&quot;https://cdn.jsdelivr.net/npm/leaflet@1.6.0/dist/leaflet.css&quot;/&gt;\n",
              "    &lt;link rel=&quot;stylesheet&quot; href=&quot;https://maxcdn.bootstrapcdn.com/bootstrap/3.2.0/css/bootstrap.min.css&quot;/&gt;\n",
              "    &lt;link rel=&quot;stylesheet&quot; href=&quot;https://maxcdn.bootstrapcdn.com/bootstrap/3.2.0/css/bootstrap-theme.min.css&quot;/&gt;\n",
              "    &lt;link rel=&quot;stylesheet&quot; href=&quot;https://maxcdn.bootstrapcdn.com/font-awesome/4.6.3/css/font-awesome.min.css&quot;/&gt;\n",
              "    &lt;link rel=&quot;stylesheet&quot; href=&quot;https://cdnjs.cloudflare.com/ajax/libs/Leaflet.awesome-markers/2.0.2/leaflet.awesome-markers.css&quot;/&gt;\n",
              "    &lt;link rel=&quot;stylesheet&quot; href=&quot;https://cdn.jsdelivr.net/gh/python-visualization/folium/folium/templates/leaflet.awesome.rotate.min.css&quot;/&gt;\n",
              "    \n",
              "            &lt;meta name=&quot;viewport&quot; content=&quot;width=device-width,\n",
              "                initial-scale=1.0, maximum-scale=1.0, user-scalable=no&quot; /&gt;\n",
              "            &lt;style&gt;\n",
              "                #map_c530a9fa2a9c429d57a8c130f81ce38f {\n",
              "                    position: relative;\n",
              "                    width: 100.0%;\n",
              "                    height: 100.0%;\n",
              "                    left: 0.0%;\n",
              "                    top: 0.0%;\n",
              "                }\n",
              "            &lt;/style&gt;\n",
              "        \n",
              "    &lt;script src=&quot;https://cdn.jsdelivr.net/gh/python-visualization/folium@master/folium/templates/leaflet_heat.min.js&quot;&gt;&lt;/script&gt;\n",
              "&lt;/head&gt;\n",
              "&lt;body&gt;\n",
              "    \n",
              "    \n",
              "            &lt;div class=&quot;folium-map&quot; id=&quot;map_c530a9fa2a9c429d57a8c130f81ce38f&quot; &gt;&lt;/div&gt;\n",
              "        \n",
              "&lt;/body&gt;\n",
              "&lt;script&gt;\n",
              "    \n",
              "    \n",
              "            var map_c530a9fa2a9c429d57a8c130f81ce38f = L.map(\n",
              "                &quot;map_c530a9fa2a9c429d57a8c130f81ce38f&quot;,\n",
              "                {\n",
              "                    center: [0, 0],\n",
              "                    crs: L.CRS.EPSG3857,\n",
              "                    zoom: 1,\n",
              "                    zoomControl: true,\n",
              "                    preferCanvas: false,\n",
              "                }\n",
              "            );\n",
              "\n",
              "            \n",
              "\n",
              "        \n",
              "    \n",
              "            var tile_layer_baa9cda030ab227d61686e9bcad9671b = L.tileLayer(\n",
              "                &quot;https://{s}.tile.openstreetmap.org/{z}/{x}/{y}.png&quot;,\n",
              "                {&quot;attribution&quot;: &quot;Data by \\u0026copy; \\u003ca href=\\&quot;http://openstreetmap.org\\&quot;\\u003eOpenStreetMap\\u003c/a\\u003e, under \\u003ca href=\\&quot;http://www.openstreetmap.org/copyright\\&quot;\\u003eODbL\\u003c/a\\u003e.&quot;, &quot;detectRetina&quot;: false, &quot;maxNativeZoom&quot;: 18, &quot;maxZoom&quot;: 18, &quot;minZoom&quot;: 0, &quot;noWrap&quot;: false, &quot;opacity&quot;: 1, &quot;subdomains&quot;: &quot;abc&quot;, &quot;tms&quot;: false}\n",
              "            ).addTo(map_c530a9fa2a9c429d57a8c130f81ce38f);\n",
              "        \n",
              "    \n",
              "            var heat_map_e9a31f14d12913a54d2cd4c69f050b1e = L.heatLayer(\n",
              "                [[42.20647, -121.72269], [36.080409, -86.7219], [36.770972, -121.787749], [33.859753000000005, -117.876516], [34.081485, -117.728209], [41.09389, -73.63169], [36.25646, -86.75788], [40.75838, -73.99436999999998], [32.655809999999995, -97.06186], [37.790511, -121.446958], [34.06405, -117.296292], [33.427748, -81.128731], [42.271903, -71.55001700000003], [35.33805, -119.03948], [33.806937, -118.150931], [25.939421, -80.292374], [38.7793, -90.36496], [39.232513, -121.678681], [40.720456, -111.986209], [38.08841, -121.691285], [41.22, -78.77574], [40.307174, -75.862365], [26.10833, -80.16765], [47.04613, -122.93399], [29.68055, -95.261398], [33.469775, -86.828136], [33.88255, -118.02589], [34.095797, -118.312572], [36.05582800000001, -84.004604], [44.895375, -93.249082], [46.56249, -94.69703], [28.11672, -82.46152], [40.302747, -104.980682], [32.84732, -117.18235], [37.81127, -112.402703], [34.037144, -118.300367], [40.71732, -73.8312], [41.068735, -83.66372700000002], [33.83459000000001, -84.42801999999998], [45.678985, -118.859101], [45.51549, -122.69966], [34.141729999999995, -117.48974], [32.688232, -97.24037], [29.674489, -95.576224], [33.80123, -117.87848], [33.414814, -86.811155], [34.165954, -118.158242], [36.17215, -86.7686], [35.75915999999999, -78.00409], [34.000157, -117.550168], [38.51035200000001, -75.227712], [28.449866, -81.363704], [33.463006, -112.174612], [37.711039, -120.95705900000002], [39.073864, -120.970982], [28.547717, -81.430337], [35.063928000000004, -80.810526], [39.567472, -105.051066], [35.198787, -80.719233], [39.660526, -77.37405799999998], [34.00116, -117.55392], [40.535698, -78.38375500000002], [35.686211, -78.60399100000002], [40.004948, -75.245508], [34.271581, -117.179589], [28.055316, -82.711333], [34.106841, -118.255879], [37.11946500000001, -122.120781], [45.596812, -109.101952], [35.297302, -81.736961], [32.945702000000004, -117.107988], [38.618484, -121.514343], [35.307388, -78.436639], [38.660691, -121.337274], [37.315031, -121.909071], [45.63335900000001, -123.361051], [38.1847, -85.69986999999998], [40.575935, -75.88544499999998], [28.193338, -82.465508], [34.120692, -117.824689], [34.797601, -92.302713], [27.936842, -82.29381500000002], [32.488687, -93.826101], [39.468431, -120.002718], [33.928986, -117.399361], [38.057593, -121.30032], [37.371506, -121.901991], [47.047802, -96.937962], [41.189713, -74.181627], [36.073436, -86.692159], [33.84382, -118.20624], [38.952319, -104.807422], [26.153587, -81.447304], [41.77461, -72.57781], [33.960007, -118.286764], [34.038994, -118.439912], [37.421143, -122.092497], [34.041408000000004, -118.273543], [33.49224, -112.13688], [27.394698, -82.450257], [44.84458, -93.15538], [40.12998, -76.79446999999998], [27.13167, -80.353435], [41.819933, -71.419336], [45.47929, -122.79166], [26.007319, -80.33985899999998], [34.066125, -117.482031], [32.432357, -93.710674], [34.818053000000006, -118.881322], [34.120728, -117.872633], [34.136549, -117.420855], [40.434419, -79.86868], [30.213079, -81.760308], [34.03061, -117.62331], [34.677726, -80.76179499999998], [45.31254000000001, -121.65602], [31.743038, -106.312332], [38.903735, -77.026384], [45.52396, -122.66549], [40.16148, -74.90029], [45.45365, -122.72205], [29.89399, -90.10526], [34.081381, -117.698174], [44.815308, -93.602565], [34.135856, -117.243676], [37.73654000000001, -122.192939], [41.533238, -72.79253299999998], [33.9382, -117.1274], [40.096954, -75.341717], [39.09631, -94.56717], [34.153692, -118.287754], [34.392544, -118.472767], [30.375068, -91.016314], [27.338399, -82.514037], [34.195566, -79.766014], [41.18835, -73.13587], [34.165503, -118.492347], [37.264031, -119.69101299999998], [33.66876, -112.07275], [35.064285, -81.77328299999998], [36.676129, -82.042647], [40.00975, -75.187221], [34.068799, -118.463335], [41.603429, -93.77678], [30.446017, -91.160417], [42.892481, -78.891867], [25.795517, -80.310733], [41.54805, -73.06737], [39.4517, -74.53639], [45.665299, -120.822304], [25.69138, -80.38895], [41.05037100000001, -77.44476800000002], [41.115292, -74.108136], [35.2465, -82.31675], [34.39065, -118.475672], [34.219413, -117.410751], [38.908649, -94.776273], [32.980374, -80.07728399999998], [40.69359, -111.90287], [30.443319, -91.187478], [35.845432, -78.680284], [42.35964, -87.89237], [39.370075, -76.51405600000002], [46.752073, -92.141233], [38.788941, -77.301618], [40.57911, -75.62843000000002], [39.952737, -76.65313], [25.891627, -80.163146], [34.704962, -112.450722], [33.432336, -112.037786], [44.564548, -123.415152], [37.865645, -122.207448], [43.013867, -74.928442], [32.74278, -97.06263], [33.818983, -118.296296], [39.039568, -123.685655], [37.42229, -122.22618], [34.119826, -117.838639], [30.173782, -84.30935], [37.784503, -121.187835], [33.96358, -118.370039], [44.952212, -92.934205], [33.164368, -117.212547], [35.059593, -90.017412], [45.434518, -118.364139], [34.20476, -118.19518], [32.31756, -109.480422], [38.405833, -121.38676], [44.425323, -121.84136399999998], [28.548209000000003, -81.165621], [40.27457, -122.27115], [39.71169, -75.64948100000002], [39.11046, -84.50148], [29.553416, -81.231967], [41.48943, -87.57757], [45.54455, -122.40011], [42.750712, -73.71623100000002], [36.213591, -86.76450600000004], [43.164957, -83.75412], [38.90133, -77.02962], [33.642879, -117.761653], [32.481758, -93.727036], [39.27364, -84.44100999999998], [45.545529, -122.532652], [37.565692, -120.847], [37.764717, -122.388795], [40.018461, -75.16780200000002], [34.053512, -118.232407], [40.852836, -73.959103], [30.390425, -89.73088800000002], [34.065853000000004, -117.493451], [32.554296, -93.781171], [28.259218, -81.439736], [42.38504, -83.15213], [42.301606, -71.113632], [36.753956, -119.780126], [38.29031, -121.44132], [34.20519, -118.47347], [37.53201, -122.00654], [34.031584, -118.03047], [33.880533, -117.572278], [36.776789, -76.280028], [37.474463, -77.513328], [39.21882700000001, -78.13448000000002], [33.691499, -79.00782199999998], [25.928453, -80.189477], [37.396619, -122.016684], [32.643622, -96.704799], [43.131862, -77.527652], [28.53706, -81.36806999999997], [37.458, -75.869702], [33.566902, -112.194948], [40.593248, -111.902629], [36.07267, -79.76635999999998], [38.74096, -121.27273999999998], [33.562479, -117.672579], [44.919631, -93.27867], [45.037118, -93.022702], [38.63652, -121.49552], [38.937209, -94.513288], [39.01708, -77.10181999999998], [39.69624, -84.2139], [40.725921, -111.995111], [34.032321, -118.219719], [32.883692, -96.770526], [39.453498, -85.997505], [41.76054, -71.48099], [29.41762, -98.502355], [34.114346999999995, -80.308498], [40.819904, -73.890417], [30.196624, -93.253322], [45.293758, -118.037056], [29.964757, -90.096941], [43.68118, -94.6097], [40.7371, -73.99032], [43.006085, -76.704433], [39.940794, -120.914951], [38.751642, -121.432623], [33.905337, -118.065867], [39.794684, -104.919983], [32.134246999999995, -110.92015], [41.87953, -71.87162], [33.987759999999994, -118.39923], [42.333189, -87.839114], [34.734984999999995, -86.640675], [34.752725, -86.746725], [38.333973, -121.331177], [44.86107, -93.16702], [36.084144, -86.705863], [36.4602, -119.493259], [41.20328, -96.09441], [38.153159, -77.506757], [40.72566, -112.20458], [43.47742, -70.50228], [25.809924, -80.335173], [42.40631, -82.95625], [29.784675, -95.593253], [44.21334, -119.0253], [41.16160900000001, -112.062954], [40.58809, -111.888125], [40.907453, -73.886393], [30.186658, -97.855121], [36.03977, -86.75406], [39.77021, -104.9917], [34.138289, -117.325591], [33.85917, -118.20152], [45.27427700000001, -122.774078], [33.51661, -86.87928000000002], [40.83403, -73.86291], [29.73281, -95.501301], [32.937219, -117.228852], [37.664912, -122.139507], [45.08789, -117.949696], [30.407148, -87.34227800000002], [41.287937, -72.548361], [41.98353, -87.81836], [34.029941, -118.44219], [33.856118, -84.369775], [38.638813, -121.72917], [25.741101, -80.237944], [38.424294, -122.715102], [41.65802100000001, -86.88058000000002], [40.764615, -73.952586], [33.989157, -118.285657], [42.154219, -88.136087], [34.03842, -81.0978], [42.61237, -82.97265], [40.723808, -111.533273], [47.58813, -122.23404], [34.06691, -117.512884], [37.55875, -122.28128999999998], [27.460748, -82.575278], [40.0076, -74.9721], [44.919544, -84.686211], [44.767546, -94.915448], [38.897717, -76.94970500000002], [40.37349, -77.598262], [29.81395, -95.37916], [42.097321, -86.404849], [25.72976, -80.337612], [40.867893, -77.74662099999998], [34.142924, -118.36736], [40.62909000000001, -73.88799], [37.578295, -77.395321], [45.02417, -123.429593], [25.769596, -80.332227], [40.830377, -73.885513], [38.365856, -121.84143600000002], [40.834473, -74.17923], [33.590897, -117.101043], [33.912961, -118.179892], [44.543998, -93.300547], [30.58207, -87.17975899999998], [39.111126, -76.950405], [35.7177, -81.755822], [36.09441, -86.65333000000004], [38.648655, -121.373293], [40.77913, -73.8263], [39.8048, -104.98363], [40.302764, -111.72602], [34.267441, -79.707151], [40.983226, -73.866567], [36.07192, -86.63622], [27.813066, -82.736823], [40.614277, -74.311534], [34.109435999999995, -82.058766], [28.087987, -82.45339399999997], [40.63024, -111.85653], [39.50933, -86.415459], [38.411248, -122.794591], [40.19656, -76.86107], [28.071666, -82.704359], [45.50724, -122.74586], [36.855223, -119.67503899999998], [39.657968, -75.697231], [27.921082, -82.606942], [35.383045, -119.04458], [33.809388, -118.288647], [34.000134, -117.930448], [28.334477000000003, -81.489633], [35.26598900000001, -80.88446], [41.20692, -111.996687], [34.160072, -82.129984], [44.970592, -93.346077], [35.639493, -78.83328900000002], [32.81852, -96.786287], [28.56933, -81.49105], [34.196802000000005, -119.12777], [33.51937, -117.621385], [34.28174, -118.68635], [27.83909, -82.75386], [25.698071, -80.162684], [32.896253, -80.638092], [32.693302, -96.631363], [36.747438, -119.80278], [34.117451, -117.200807], [41.92933, -87.69015], [40.626936, -74.243076], [41.200917, -73.11573100000003], [30.541096000000003, -87.280885], [28.59733, -81.299849], [36.606424, -121.6422], [42.33879, -71.27684], [38.13694, -120.457656], [42.28299000000001, -87.95335], [34.025941, -118.275212], [41.046284, -73.799897], [38.62217, -77.29561], [38.56057, -121.45827], [43.013867, -74.928442], [33.878885, -118.191744], [29.742725, -95.485516], [25.686754, -80.40081500000002], [26.93396, -80.10181999999998], [43.003747, -78.818508], [36.186226, -86.633206], [35.094655, -89.870191], [45.51127, -94.27963], [30.310281, -97.965184], [37.521208, -77.43930999999998], [33.872966, -117.746057], [38.481607, -121.408674], [33.856741, -87.35807700000002], [34.126409, -117.916033], [29.742124, -95.424773], [40.82393, -73.87546999999998], [33.602429, -117.250719], [32.77956, -97.06116], [29.965655, -95.553266], [34.17628, -118.30772], [37.736415, -121.117114], [33.616541, -84.297267], [33.73571, -117.833462], [37.587672, -121.86961], [33.41153, -112.1692], [39.742156, -84.23056700000002], [35.227184, -80.809101], [34.022420000000004, -84.2897], [25.686119, -80.44614], [40.78224, -86.05594], [34.322542, -119.140566], [29.666102, -95.342701], [40.95378, -73.85300000000002], [45.30003, -70.603977], [30.403643, -81.660786], [45.053483, -122.970432], [35.843975, -78.68062900000002], [29.921302, -89.975383], [43.12176, -83.76326], [34.031039, -118.378795], [34.39478, -118.46871000000002], [33.856543, -117.875971], [33.462145, -112.021859], [35.31777, -80.94503], [33.998554, -118.147262], [38.613735, -90.197292], [36.16196, -95.991379], [37.44205, -77.43963000000002], [43.125021, -123.363834], [37.76432, -122.21711], [27.3381, -82.447004], [42.924981, -71.37685], [32.71712, -96.82847], [27.015691, -82.045823], [37.535767, -122.51772], [37.683636, -77.45217], [40.844859, -73.923059], [33.87764, -118.099926], [39.175769, -110.33831], [33.748596, -84.38394100000002], [35.000413, -120.53078], [40.403709, -104.99318999999998], [45.10466, -93.00014], [34.162151, -118.15855], [29.996119, -90.125988], [35.29174099999999, -120.650512], [36.845988, -76.25274499999998], [34.79119, -82.42461999999998], [34.15483, -118.23979], [42.71664000000001, -87.95379], [36.315919, -78.361991], [38.945376, -76.858412], [38.87922800000001, -77.033473], [35.016777000000005, -85.27291], [37.534153, -77.43253], [35.05794, -80.95737], [33.98232, -81.237841], [29.15562000000001, -82.18508], [39.02104, -94.19424], [33.67505, -117.83893], [32.900286, -117.11611299999998], [25.927764, -80.293387], [40.686658, -73.614097], [37.814501, -122.300287], [43.637776, -95.589128], [40.4358, -75.42453], [34.921085999999995, -78.02800400000002], [36.112779, -83.33221], [35.21735, -114.010416], [47.57125900000001, -122.33934], [37.84788, -122.02791], [38.267611, -76.985973], [32.735535, -117.156022], [34.964649, -80.984493], [33.606348, -117.694076], [34.03011, -117.693868], [30.39068300000001, -97.551914], [43.979028, -122.962426], [39.369487, -121.105786], [38.705596, -120.599414], [37.80811, -122.36719], [28.620017, -80.85106], [34.706596000000005, -118.797883], [33.908003, -84.23163000000002], [28.4493, -81.477791], [40.602358, -74.05757], [40.66048, -111.90117], [28.567119, -81.210937], [28.512993, -81.37469], [40.333461, -74.640606], [40.251992, -75.64755799999998], [35.012840000000004, -81.9522], [43.878608, -124.130345], [40.59294000000001, -111.90219], [33.964690000000004, -118.16889], [25.858258, -80.18391700000002], [40.7019, -111.79534], [25.831247, -80.24035], [38.639538, -121.355524], [33.994892, -117.908335], [33.785134, -84.387815], [45.56627, -94.20598], [33.966882, -118.086184], [25.884067, -80.203213], [40.277291, -85.340533], [46.17534000000001, -123.86931], [33.982783000000005, -117.866944], [33.658408, -111.924071], [32.81629, -96.86855], [33.503587, -117.654764], [42.986684, -121.826404], [28.551652, -81.529612], [37.013593, -76.32477800000002], [32.92051, -97.31728], [45.56274000000001, -122.66142], [34.029518, -81.103037], [35.039017, -80.979791], [27.744835, -82.646564], [47.70983, -116.99472], [28.452192, -81.400388], [28.593517, -81.307264], [40.241561, -75.28374000000002], [34.032011, -118.184579], [34.078441, -118.289569], [33.874006, -84.249615], [38.240022, -105.046198], [42.570231, -79.10162], [30.488702000000004, -91.16602], [37.512904, -119.894322], [44.97212, -93.25106], [30.35021, -81.66854000000002], [32.864147, -96.687287], [35.38568, -118.98818], [29.72155, -95.537932], [34.214, -80.453285], [30.479039, -90.546347], [47.14230300000001, -114.81272], [38.363166, -81.67023], [40.24938, -76.812749], [36.15083, -86.749881], [45.52623, -122.68691], [40.75221, -73.7431], [25.75485, -80.38499], [25.743189, -80.424161], [30.270556, -97.754466], [27.956666, -82.459491], [39.834087, -121.593936], [34.717601, -114.482356], [25.761156, -80.336179], [47.84979000000001, -122.255829], [34.114275, -80.88978], [37.62998, -77.53545], [37.882216, -121.280458], [44.87718, -117.08467], [40.846277, -121.910963], [28.47258900000001, -81.39546899999998], [34.145395, -117.290853], [34.056657, -118.255573], [26.395284000000004, -80.09233], [28.448442, -81.28100699999997], [26.52802100000001, -81.870594], [37.838727, -97.327698], [33.95701, -117.549091], [38.802784, -77.095415], [43.179885, -83.600367], [33.916434, -118.267718], [39.088228, -77.005094], [35.196195, -80.79033100000002], [40.78158, -73.71661], [41.13942, -111.85416], [34.046103, -118.449877], [40.97845, -73.69629], [45.23406, -93.47063], [28.981933, -81.988486], [38.45252, -121.37164], [25.842887, -80.241539], [40.611913, -75.517625], [38.000336, -121.260314], [33.880151, -117.565244], [33.060812, -117.290813], [34.03119, -118.03068], [33.86425, -117.26056], [28.026837, -82.18706], [41.66004, -93.52236], [30.235459, -97.740066], [29.7792, -95.4455], [38.687652, -121.351165], [44.108871, -121.310072], [40.813484, -111.91878], [25.810032, -80.33849599999998], [33.433815, -117.310097], [35.914188, -84.109128], [37.768919, -121.38633], [38.5997, -121.50468], [40.327044, -79.30287], [41.84636, -87.97236], [33.98751, -118.13759], [30.268417, -97.747689], [40.02316, -76.54184000000002], [33.622535, -78.986171], [35.33850200000001, -119.03946], [33.92927, -118.29191000000002], [40.08191, -75.17164], [43.011614, -77.446178], [28.683296, -81.22639699999998], [36.54902, -119.598445], [38.408195, -120.514322], [41.288713, -72.816792], [28.509942, -81.413986], [36.899098, -76.494773], [38.412917, -121.484808], [27.70761, -82.38772], [25.761803, -80.338712], [44.99638, -93.0896], [33.842171, -117.87593], [37.920652, -122.062321], [37.739313, -121.590853], [26.150781, -80.119265], [25.748036, -80.367866], [42.00151, -87.66075], [48.319826, -115.539136], [38.990755, -76.989703], [36.637188, -82.104501], [38.81062, -94.50192], [41.932041, -83.358564], [32.898484, -96.715189], [32.717932, -117.084943], [33.534146, -112.041524], [32.4607, -93.829865], [34.058593, -118.178075], [37.82783, -121.99784], [43.05428, -76.12199], [39.78674, -84.18892], [27.728193, -82.677601], [33.949791999999995, -118.091827], [32.985256, -80.080153], [37.226174, -119.74263], [34.049281, -118.263815], [28.399216, -82.551238], [28.981875, -81.91481], [40.946714, -73.872396], [33.87673, -118.18612], [34.887697, -82.181529], [40.728977, -74.03181500000002], [32.84641, -117.17111], [38.644211, -121.388318], [25.701224, -80.334161], [36.153947, -86.758278], [32.5586, -93.73103], [40.291705, -74.041761], [42.2059, -85.89446], [25.700047, -80.413232], [37.75153, -121.1401], [35.197507, -78.675719], [40.06992, -112.33033], [34.175003000000004, -118.115831], [40.82065, -74.11991], [38.672404, -121.261561], [33.957455, -118.229651], [42.77592, -86.07746], [32.898699, -96.768669], [38.002315, -122.047182], [25.747808, -80.33247800000002], [36.78335, -119.78469], [27.965069, -82.449629], [44.54399, -93.30088], [33.82425, -118.20668], [37.201744, -121.709415], [35.708826, -78.627593], [32.924298, -96.84151], [25.940336, -80.1887], [35.453917, -97.489237], [38.208016, -122.645643], [26.232381, -80.126014], [33.7899, -118.20778], [39.86236, -86.10005], [33.87521, -118.01255], [33.83866, -117.1183], [39.2537, -74.72674], [28.264640000000004, -81.6098], [33.748587, -118.285399], [44.266477, -93.339049], [43.627363, -75.41098199999998], [25.869362, -80.20448499999998], [25.799719, -80.244019], [45.196841, -93.557413], [45.50668, -122.74926], [34.145225, -117.283117], [44.969939, -93.400576], [36.166665, -86.765997], [36.142333, -86.81223299999998], [25.684749, -80.43242], [39.50953, -77.55972], [34.270167, -118.153437], [38.510834, -121.344166], [33.247384999999994, -84.279829], [45.52529000000001, -122.66545], [34.139746, -80.916436], [32.993717, -96.948541], [39.834355, -123.635448], [44.191164, -93.996123], [39.545694, -106.218783], [29.184115, -82.31245200000002], [38.452543, -121.374547], [25.78628, -80.21266], [34.03981, -118.080021], [38.537994, -122.507579], [41.76803, -87.90496], [37.428093, -122.101358], [30.159923, -81.6326], [37.8969, -122.101841], [41.79001, -87.63150999999998], [47.185554, -122.46361], [30.456534, -86.58252399999998], [43.13255, -77.6624], [28.205658000000003, -82.759454], [45.101054, -108.729125], [30.424248, -91.150998], [34.004597, -118.28271399999998], [25.963148, -80.161556], [35.32525, -84.77745], [47.093635, -122.62094], [38.797797, -77.523573], [34.087246, -117.645442], [30.33228, -81.67234], [38.79179, -90.558215], [35.26099, -80.81969000000002], [34.019768, -117.958281], [32.492711, -93.776564], [34.020719, -118.278261], [34.566732, -119.940973], [42.94697100000001, -83.653244], [37.596641, -77.487677], [39.084479, -94.568329], [44.860079, -93.298343], [39.90797, -75.36225], [33.194271, -80.59314], [34.13217, -117.94976], [40.770952, -123.126598], [35.354196, -119.040183], [44.953447, -93.083285], [25.84461, -80.221958], [41.643678, -87.062547], [38.191236, -78.997294], [35.781236, -84.255255], [41.92094, -87.67535], [28.452192, -81.400388], [32.774108, -96.81117], [34.19432800000001, -117.366059], [45.79238400000001, -118.129055], [33.779753, -118.089994], [33.993738, -117.90523], [28.193793, -82.636437], [35.19469, -80.76642], [34.86184, -82.251452], [34.245978, -118.423497], [31.76888, -106.31892], [34.48697, -118.14085], [45.703318, -110.463866], [39.64675, -75.74954100000002], [32.1633, -110.9863], [33.552577, -117.140525], [40.669143, -74.283507], [34.054248, -118.237831], [46.382098, -94.146895], [40.025536, -75.69836], [32.927347999999995, -117.114221], [33.959395, -117.548992], [33.557322, -117.549435], [27.049764, -82.377414], [34.534492, -82.551201], [35.145089, -80.92732099999998], [34.29997, -117.833551], [33.391126, -112.096647], [37.25319, -121.94313], [39.826716, -111.833578], [33.90497, -117.45936], [35.781687, -83.10926500000002], [42.077209, -121.84638], [43.993667, -93.137058], [44.32282, -121.17427], [45.135987, -93.241878], [38.135989, -77.50927], [40.75725, -73.73874], [34.380374, -79.44766], [45.021089, -109.929116], [34.744359, -92.391102], [32.839319, -97.278993], [33.746733, -84.430894], [32.736714, -96.821582], [42.267635, -122.800327], [37.547303, -77.430518], [36.048774, -86.71370999999998], [30.276997, -97.769188], [37.879132, -121.278644], [40.065624, -75.143334], [38.573631, -121.548732], [33.46216, -112.0236], [38.667592, -121.540159], [34.72498, -92.293288], [41.694409, -91.645237], [29.688407, -95.570371], [43.058643, -75.247466], [29.058728, -82.276209], [40.137918, -120.271908], [34.067840999999994, -117.517157], [41.79733, -71.40356], [37.028021, -112.479186], [37.408367, -122.068737], [44.983316, -93.287583], [34.85725, -82.264], [40.736814, -73.723454], [41.66209600000001, -93.499664], [25.767817, -80.200356], [30.288501, -81.627312], [33.85931, -118.29042], [36.847363, -76.021364], [37.785512, -122.391418], [43.05166, -76.1369], [41.562277, -74.42764100000002], [37.926385, -122.364911], [25.900711, -80.18695799999998], [46.429781, -94.3049], [33.876459999999994, -118.10278], [37.34365, -121.855732], [39.782974, -86.159537], [32.8369, -96.93349], [42.39417, -87.962391], [38.785603, -77.178637], [37.171215, -93.262481], [42.945164, -85.680713], [39.923297, -74.97743], [25.616887, -80.37878], [41.751655, -77.56338000000002], [26.49424500000001, -81.933627], [38.240099, -122.267482], [45.58535, -122.47774], [37.842513, -122.485794], [33.74323, -84.37226], [37.892864, -122.124999], [42.588089, -121.924483], [34.036390000000004, -117.3222], [44.72504, -119.10381], [45.590982, -106.297854], [40.27553, -76.81744], [40.759635, -77.843773], [44.891024, -123.329555], [30.056752000000003, -89.945102], [33.591096, -117.759436], [30.36783, -81.66879], [37.660239, -122.475563], [41.87198, -87.75318], [28.20867800000001, -82.66624499999998], [47.752989, -92.651322], [40.845262, -73.927777], [30.43053, -82.909666], [45.761278, -111.18517], [30.510704, -81.63449], [28.52792, -81.45939], [25.767744, -80.33628399999998], [34.16534, -118.46973], [37.275329, -81.123561], [38.425651, -77.42095], [25.763863, -80.303919], [34.067553000000004, -118.00067], [40.178039, -75.51339200000002], [35.29937, -80.7636], [40.777394, -74.04469300000002], [37.992603, -122.306302], [45.50668, -122.74926], [38.658303, -121.752387], [38.029431, -78.634858], [33.911245, -118.172382], [41.65939, -87.66228000000002], [33.289164, -117.14918], [30.746616, -85.544976], [32.326941, -86.28058], [25.716723, -80.41526999999998], [33.462204, -112.067948], [42.366279, -88.16917], [37.300675, -121.858366], [30.271918, -97.754962], [46.94734, -114.123961], [30.440385, -91.213436], [35.775749, -78.64363], [29.57526, -95.38595], [29.94103, -95.52111], [38.622404, -121.328415], [34.146858, -118.370379], [39.513503, -119.975204], [39.26881, -76.63086], [32.742594, -97.224229], [32.995728, -86.699262], [30.29657000000001, -91.91135], [25.897871, -80.180391], [33.78262, -83.96783], [40.102794, -75.29618599999998], [40.34254, -79.96468], [30.292093, -81.954261], [41.2479, -73.08185], [33.82549, -118.21578], [33.99557, -118.17683], [35.001714, -80.855855], [35.654937, -80.463963], [40.75040300000001, -73.940351], [37.909686, -121.22476100000002], [33.842181, -118.020421], [33.95639, -117.680708], [38.464197, -121.496124], [38.234673, -77.498056], [33.967545, -118.161392], [45.802376, -108.438362], [40.286498, -104.97998], [33.725806, -117.803903], [37.884814, -122.179424], [35.098994, -82.056001], [33.099389, -117.08967], [39.617117, -120.591355], [33.439995, -117.09145], [40.754018, -73.899966], [45.529693, -122.665303], [43.688278, -123.297093], [40.725409, -111.902022], [33.13896, -96.83747], [25.68383900000001, -80.40053499999998], [41.346157, -73.651645], [29.703811, -95.586905], [42.93732, -83.687865], [37.74594, -122.20095], [34.135938, -117.302749], [30.158664, -81.74735], [28.523332, -81.330957], [38.572043, -77.76208199999998], [41.20885, -95.94917], [38.794242, -121.877194], [33.767472999999995, -117.920918], [32.334006, -90.139472], [26.390415, -80.099676], [40.628911, -74.183818], [25.88449, -80.210697], [32.76877, -97.06275], [45.693951, -118.937762], [38.896676, -77.201088], [29.518264, -98.469025], [46.493083, -114.093245], [30.368882, -97.71757], [34.180219, -78.950586], [35.392345, -118.987664], [45.61127000000001, -121.14075], [34.029961, -117.71098899999998], [37.185961, -120.610281], [39.6785, -104.98756000000002], [43.040561, -77.696907], [33.874593, -117.545288], [38.65796, -90.35575], [38.60233, -121.50576], [40.422046, -80.048278], [40.842701, -73.890328], [34.666789, -82.51733399999998], [33.710764000000005, -117.782782], [28.472045, -81.238199], [45.5283, -92.991061], [38.76478, -111.35572], [38.709947, -77.212914], [34.14565, -118.75722], [40.610321, -74.119694], [48.447486, -122.470811], [42.921832, -123.277071], [39.27749, -76.55318100000002], [31.76414, -106.4876], [33.980401, -117.340003], [33.08035, -80.20454000000002], [36.19456, -83.17075], [36.06074, -86.9162], [42.962739, -85.63967], [27.336486, -82.531], [32.236159, -110.942479], [32.839661, -96.776977], [33.301497, -81.05193299999998], [33.974344, -118.269543], [25.747537, -80.337062], [37.39515, -119.737615], [40.24401, -75.61359], [40.898467, -77.35339], [33.98808, -117.90122], [40.706203, -74.150504], [30.247448, -97.583038], [44.63323, -124.01568], [32.297582, -110.992345], [45.46305200000001, -122.699888], [38.863803, -77.336529], [25.744276, -80.225788], [38.817647, -77.638983], [34.92986, -91.105316], [39.71121, -104.9989], [36.116027, -86.668719], [40.787891, -74.049214], [34.418659000000005, -119.759065], [32.934290000000004, -80.04735], [39.312092, -120.14238799999998], [38.851866, -77.330547], [41.464626, -121.161707], [33.945419, -118.328566], [37.937754, -78.103598], [39.682084, -121.851466], [35.82073, -78.59174], [35.138067, -120.629659], [32.866473, -96.886756], [35.753337, -78.731155], [43.092166, -76.10679], [34.120348, -118.338986], [40.786882, -74.42081800000003], [33.52933, -117.16778], [28.199051, -82.44246899999997], [41.19018, -73.68769], [41.960892, -72.91740899999998], [45.31344, -93.652817], [28.542812, -81.414901], [40.845268, -73.927763], [40.441, -74.39058], [45.490659, -122.674708], [32.730664000000004, -96.613222], [40.79776, -73.27888], [42.951675, -78.758928], [33.412696000000004, -86.967333], [36.343804, -121.259015], [34.164617, -79.852612], [25.885921, -80.164713], [31.552487, -91.412504], [33.106194, -117.093476], [44.975299, -93.285083], [39.929007, -123.761357], [36.25617, -86.71439000000002], [40.71513, -111.90419], [44.06231, -121.30721], [35.075167, -106.511298], [24.660327, -81.521321], [27.51778, -82.56306], [33.627034, -117.171044], [40.064323, -80.58274200000002], [28.451321000000004, -81.45925799999998], [40.580605, -111.834021], [42.1782, -73.758423], [32.2757, -90.19353], [25.898508, -80.18675999999998], [38.071273, -78.872505], [30.04169000000001, -89.99969], [34.300168, -79.199391], [44.966023, -93.265651], [34.15283, -118.33566], [31.74929, -106.33977], [36.167509, -115.101466], [32.76194, -96.954442], [36.634049, -119.853625], [37.050347, -120.635541], [40.41180900000001, -111.865308], [33.176836, -117.227367], [39.016839, -94.129003], [45.722168, -108.624433], [34.72753, -86.62748], [40.144337, -75.46809], [35.40311, -119.04575], [33.85595900000001, -117.994262], [34.437878000000005, -119.851149], [33.985855, -117.908678], [38.725812, -121.379061], [36.713995, -119.826783], [32.269077, -90.034442], [33.66749, -81.111575], [34.01627, -117.34208], [42.631541, -83.790194], [32.65023, -117.06619], [40.779026, -77.76410899999998], [34.07218, -117.900738], [33.91581, -84.40314000000002], [38.75139, -90.44763], [29.93782, -95.44847], [33.934096000000004, -117.40783], [33.892501, -79.127178], [38.572133, -121.413204], [36.485644, -119.79126], [33.62964, -84.30024], [25.893906, -80.324445], [35.047301000000004, -80.815907], [33.828449, -117.928218], [30.292857, -82.77894599999998], [30.41109, -91.009145], [36.253425, -115.2466], [43.82780800000001, -124.148687], [36.153417, -86.857505], [44.959843, -92.958544], [40.58155, -104.9077], [45.0428, -122.97616], [26.546693, -81.871432], [35.17452, -92.73915], [37.204529, -121.991834], [30.826703, -88.091479], [45.193179, -121.689469], [41.67182800000001, -72.84403499999998], [38.871806, -76.98214300000002], [41.253092, -78.506816], [38.944247, -76.79791999999998], [33.58805, -84.38351999999998], [41.065148, -75.3553], [34.102689, -118.47718799999998], [37.68539000000001, -122.470725], [42.947004, -77.61308299999997], [34.063748, -117.819136], [41.65257, -87.8409], [37.609255, -120.884746], [27.29875, -82.45019], [44.812663, -123.397675], [32.865608, -96.804034], [36.125482, -86.697412], [34.289494, -117.451951], [25.78084, -80.19989], [38.416045, -81.79856600000002], [32.992761, -80.164845], [35.35337, -80.728451], [37.716193, -121.707257], [40.789536, -74.195605], [36.94603, -81.04665], [30.243312, -81.76301099999998], [29.74704, -95.43841], [35.103097, -85.363462], [45.656374, -118.716942], [32.91639, -96.85974], [40.819904, -73.890417], [44.381464, -121.179813], [34.067399, -117.571285], [36.17569, -77.76898], [30.392751, -91.160784], [45.58045300000001, -122.543595], [33.057697, -96.568405], [36.451403000000006, -118.896183], [35.83119, -78.56923], [37.73813, -122.19405], [36.788453, -79.393857], [32.703778, -117.146491], [28.448996, -81.47779399999997], [39.016302, -77.098091], [35.17434, -106.5874], [33.040138, -80.250017], [41.730161, -72.660623], [33.970118, -118.081946], [28.532148, -81.211248], [40.124595, -122.195594], [37.41905, -121.9605], [34.15316, -118.3583], [39.281244, -84.33357], [33.388106, -111.96787], [34.030711, -117.585855], [45.047946, -93.188805], [28.465829, -81.417927], [38.416182, -82.345878], [32.329048, -95.300658], [42.910369, -76.221085], [29.685232, -95.367745], [34.889799, -82.169462], [41.24495, -112.02534], [30.419844, -91.084567], [38.76628400000001, -77.3131], [38.97708, -93.41179], [29.660259000000003, -95.5726], [40.76791, -74.48973000000002], [30.498456, -84.253334], [44.136829, -122.374034], [35.631012, -118.475863], [32.63225, -97.32166], [33.133932, -117.12586], [34.026843, -118.429919], [47.71268900000001, -122.328182], [39.99516, -84.00072], [34.984148, -107.175825], [25.807811, -80.285032], [37.634303, -122.41208600000002], [43.022092, -78.137345], [35.143343, -81.503137], [38.758272, -77.463536], [38.019101, -121.937152], [36.797171, -76.148504], [40.20859, -111.65974], [25.686434, -80.385227], [33.08944, -117.07904], [29.72613, -95.47094], [33.993863, -117.964412], [38.675285, -121.95211], [26.714692, -81.697272], [40.698985, -111.930731], [44.749492, -117.808402], [35.246661, -80.96206], [44.76406, -120.97289], [34.04442, -118.09045], [33.94301, -117.2808], [42.962685, -85.689921], [40.73214, -74.1167], [42.367562, -87.855616], [45.574647, -122.545934], [40.796405, -77.856356], [26.3862, -80.10545], [39.001311, -120.907362], [45.53001, -122.66523], [28.329049, -82.324283], [33.48512, -112.264], [39.7361, -110.874], [25.947423, -80.152185], [30.137356, -81.77369200000003], [38.017974, -122.266749], [33.789833, -118.207746], [36.888239, -121.806753], [37.181864, -77.492913], [35.767412, -119.347316], [28.456014, -81.40138], [33.493387, -112.22056], [44.93906, -93.34878], [42.051155, -88.006785], [39.15154, -76.68101], [45.31987, -84.96596], [42.909562, -85.676858], [38.524464, -121.521479], [39.013806, -78.296312], [39.18528, -78.1367], [29.688064, -95.592465], [34.015025, -118.420878], [40.749257, -73.756798], [34.833695, -82.462991], [39.375225, -76.453331], [40.231885, -75.66816999999998], [28.032725, -82.133542], [37.294131, -121.938146], [39.833109, -75.103282], [34.068082000000004, -118.02987], [36.705964, -119.610234], [33.931413, -86.197067], [33.97027, -118.37475], [41.83297, -88.028931], [33.868990000000004, -117.73058], [25.968639000000003, -80.193776], [40.844854, -73.925124], [35.008538, -85.15321899999998], [33.973620000000004, -117.87303], [38.484174, -123.013626], [30.178281, -81.514337], [37.94005, -122.51599], [37.128371, -104.792264], [38.774336, -120.284165], [37.598055, -120.964159], [45.402869, -122.571781], [44.24805, -121.046858], [28.59620300000001, -81.465855], [35.102711, -80.988534], [34.587137, -118.154729], [33.745662, -117.842442], [45.34203, -122.62303], [38.618038, -121.405353], [43.162188, -77.55275300000002], [45.498393, -122.673209], [44.890563, -93.274086], [26.230382, -80.126426], [32.748384, -117.155971], [33.981905, -118.256421], [44.902411, -92.994039], [38.192478, -120.826392], [37.515171, -85.886116], [42.30551, -87.98358], [44.834958, -93.091439], [32.873395, -96.897847], [38.3046, -77.480674], [30.42690300000001, -86.640146], [34.13107, -80.96266], [26.51991, -80.0727], [37.099684, -122.100689], [35.152791, -80.84871], [40.76011, -73.96229], [36.578478, -121.728352], [38.63377, -121.345995], [33.460724, -112.012544], [38.84816, -77.42255300000002], [28.56846, -81.2532], [35.416609, -118.831452], [33.876452, -118.115369], [33.96348, -117.32473], [25.685481, -80.414585], [35.07239000000001, -90.00932], [41.87124, -87.77922], [39.69775, -83.45291], [34.060497, -118.21497], [43.633818, -116.357742], [29.731466, -95.4778], [37.732607, -120.959386], [36.768489, -119.836358], [29.7294, -95.446439], [28.372518, -81.425904], [32.83396, -117.11928], [33.509379, -112.091244], [39.002825, -76.895302], [33.987739000000005, -118.398953], [39.797957, -86.116222], [34.033724, -118.436737], [35.099676, -80.77984599999998], [45.71076, -121.51113], [38.121719, -122.276954], [39.741672, -76.797579], [36.79412, -119.767396], [39.211889, -108.864673], [33.964690000000004, -118.16889], [31.63585, -84.246554], [37.74492, -122.40505], [39.157429, -76.654862], [45.51549, -122.69966], [38.71437, -121.3924], [36.191872, -86.780587], [35.75656, -78.61758], [40.42894, -79.93043], [34.003569, -117.830784], [36.761463, -77.68033], [37.25971, -121.968891], [40.703868, -111.87131], [29.69946, -95.51889], [33.034196, -96.997746], [32.604248, -96.822737], [44.967132, -93.288174], [32.779025, -117.101136], [34.11464, -118.481851], [36.801527, -76.373552], [38.550547, -122.514725], [41.81914, -71.392127], [39.899006, -75.109913], [36.025385, -86.632622], [40.049113, -74.997414], [34.658722999999995, -83.088036], [36.791549, -76.426445], [34.870744, -82.467093], [41.371725, -71.996709], [40.027992, -76.48103499999998], [47.548952, -122.277024], [28.202488, -82.69458900000002], [41.045254, -73.549379], [34.078568, -118.220034], [27.956021000000003, -82.467263], [28.42485, -81.404787], [34.694821999999995, -82.504329], [45.987385, -95.707086], [32.191846000000005, -110.833944], [38.298608, -122.033804], [39.400571, -76.426689], [40.827691, -73.847701], [41.89739, -87.65938], [32.705794, -96.827348], [32.187141, -110.956345], [29.74216, -95.35743], [40.290502, -75.426796], [35.747264, -78.602938], [37.351636, -121.914338], [37.55337700000001, -77.481197], [39.44198, -76.35559], [32.778686, -96.874515], [32.780359000000004, -117.083755], [42.181627, -87.9897], [37.610789, -120.976992], [34.002009, -117.834943], [39.051214, -76.928747], [25.577361, -80.370664], [42.48808, -88.09549], [33.930997999999995, -118.279608], [29.238947, -81.06808199999998], [32.84863, -117.03005], [40.51922, -74.30259000000002], [40.860239, -73.907214], [40.522817, -74.30046899999998], [40.959311, -76.592789], [39.88227, -111.828407], [32.690432, -117.152467], [38.955341, -76.717561], [34.879466, -120.434992], [33.5371, -112.27241], [34.005258000000005, -117.96483700000002], [25.166652, -80.378075], [45.566064, -122.218728], [28.537884, -81.45864399999998], [35.332303, -119.01879], [38.557425, -77.340265], [40.80643, -72.83275], [33.869919, -118.055221], [39.9678, -85.98849799999998], [44.86213, -93.25105], [47.467719, -122.218898], [38.456689, -121.410383], [38.751838, -104.760422], [40.32743, -76.784187], [33.767945000000005, -117.920267], [34.004455, -118.173118], [42.27698, -84.36063], [35.79040300000001, -119.250907], [36.328028, -121.893645], [43.613771, -118.862216], [35.18347, -80.75323], [36.44397100000001, -119.394822], [33.96641, -118.07942], [41.83849, -87.9193], [40.74016, -73.83706], [25.963015, -80.147697], [37.79034, -121.295124], [45.087315, -123.404267], [25.765334, -80.263401], [33.655726, -117.743697], [39.912462, -86.040491], [25.733242, -80.322851], [28.54638, -81.24422], [43.891764, -92.618275], [33.901841999999995, -118.294847], [38.591181, -121.415303], [42.999544, -77.791635], [25.743609, -80.414579], [42.909373, -83.588578], [33.776553, -117.840245], [37.731714, -122.188701], [33.803259999999995, -118.13723], [38.828237, -77.92822], [35.33627, -80.74297], [42.484441, -83.448125], [30.413844, -91.06767], [42.366936, -83.08164000000002], [33.916732, -117.300207], [38.005292, -122.082444], [25.942737, -80.19837199999998], [27.490423, -82.562979], [41.05518, -111.96108], [36.153677, -86.822537], [36.72514, -119.232446], [34.697487, -86.379113], [43.606348, -116.60442], [26.53927100000001, -81.871236], [39.32695, -104.88043], [25.626145, -80.41645], [43.222875, -73.850389], [40.05671, -75.65715], [43.80524000000001, -123.05523], [38.26263, -85.81611], [42.23822, -71.02365], [43.180116, -77.639478], [34.177816, -81.30990600000001], [39.39488, -76.545149], [38.656736, -120.998579], [26.432805, -81.777901], [25.913164, -80.210316], [34.889063, -82.24158299999998], [28.878432, -82.092536], [38.59290900000001, -121.551711], [47.424186, -92.923693], [29.436267, -98.503729], [34.272086, -118.35298600000002], [44.618343, -117.496], [30.465523, -87.25292900000002], [41.670049, -87.59755799999998], [40.131239, -82.97191099999998], [35.65750999999999, -80.45951], [33.94355, -117.39247], [45.505418, -122.678506], [37.547791, -77.43164], [36.806312, -76.361514], [34.039307, -81.11162], [40.83025, -73.93219], [32.71774, -117.08836], [33.718452, -117.970267], [35.204482, -80.818538], [34.015601000000004, -118.172251], [32.937624, -96.748122], [36.109013, -95.854138], [45.328745, -93.561274], [33.932845, -118.368284], [34.085685999999995, -118.21636], [40.98784000000001, -73.67647], [39.323087, -120.21636], [40.504458, -111.89098], [28.55338, -81.335955], [34.532314, -81.965281], [39.131477, -77.914165], [36.158761, -115.091542], [37.32709000000001, -121.88048], [45.606125, -94.40012], [38.799129, -76.90171099999998], [25.882822, -80.24470500000002], [35.006593, -105.632096], [45.539058, -122.217165], [32.917770000000004, -80.1134], [36.253455, -119.09131399999998], [43.75565, -123.097968], [39.64507, -106.38209], [37.442597, -121.890145], [33.968786, -117.848872], [29.73283, -95.375195], [41.327364, -73.692563], [30.682534000000004, -87.993782], [41.455246, -72.83943000000002], [34.440801, -79.376071], [33.894457, -78.625161], [41.37911, -73.79968000000002], [39.21689, -76.65684], [45.234249, -123.152251], [34.07941, -117.738401], [40.849136, -76.529759], [40.142548, -75.451093], [37.881916, -122.308259], [28.45125, -81.23965], [33.97909600000001, -118.374761], [43.490878, -70.492492], [28.494316, -81.417523], [43.20345, -77.56187], [37.611557, -122.395002], [29.731556, -95.564611], [34.183347999999995, -118.31549], [40.27406, -74.21976], [27.284113, -82.514088], [42.4445, -83.43174], [37.82758, -122.2828], [33.760756, -84.377808], [40.539, -111.89336000000002], [34.652392, -86.814047], [26.964665000000004, -80.172139], [43.12451, -75.57705], [25.717348, -80.326362], [40.31051400000001, -79.61402199999998], [45.889674, -94.922104], [28.20796, -82.24599], [35.18137, -80.88864000000002], [30.496327, -87.214303], [34.978311, -82.465967], [25.97209, -80.25248], [37.68834, -122.065392], [33.191212, -117.12242], [39.22746, -84.43818], [40.714247, -94.842372], [27.99211, -82.453801], [44.96399, -93.23297], [34.280404, -118.418449], [40.780087, -111.91065], [38.352867, -77.478063], [35.037465999999995, -85.27883299999998], [36.96764, -76.51171], [39.995658, -79.84627900000002], [35.849659, -78.58235400000002], [38.54359, -121.509186], [42.876953, -78.87049300000002], [25.686692, -80.4717], [33.04199000000001, -84.98355], [39.558323, -120.826885], [30.246576, -97.76926], [27.88286, -82.654963], [38.93759, -77.02449], [39.937247, -104.98793], [33.976009000000005, -118.16768], [27.633884, -82.539604], [42.06863, -87.75643000000002], [33.951986, -78.723681], [46.450737, -111.986112], [36.097887, -119.518579], [40.335606, -75.939699], [25.871979, -80.3629], [28.48298, -81.457877], [31.654938, -106.270202], [35.346869, -119.039429], [33.95952, -118.11387], [30.44319500000001, -91.057398], [33.69527, -117.93449], [35.64086500000001, -117.758639], [35.049782, -81.586285], [37.19921, -77.42312], [40.146472, -123.78517], [32.814709, -117.150978], [37.416507, -120.81328899999998], [34.15646, -118.2513], [25.706173, -80.317708], [45.008, -93.203998], [44.94918, -95.68725], [41.756965, -74.058148], [37.770341, -121.173759], [34.159813, -117.34857], [33.48065, -112.110033], [38.675514, -121.050703], [37.751523, -122.402726], [29.612005, -82.382287], [29.833205, -95.483974], [45.147103, -122.884944], [41.805285, -73.56321899999998], [39.66546, -75.61094], [32.833896, -117.119268], [38.501634, -121.431724], [32.348256, -95.294313], [25.69289, -80.16293399999998], [32.911669, -117.116157], [43.604957, -116.355981], [44.479923, -69.707145], [41.86968, -87.88883], [37.263001, -93.319826], [30.2233, -97.627571], [39.88473, -104.98744], [33.930896999999995, -118.299625], [32.696751, -117.143326], [38.672458, -90.449103], [43.25086, -70.62353], [33.410990000000005, -112.0057], [33.461941, -112.266422], [33.934482, -98.536296], [28.449998, -81.469145], [47.363251, -122.616852], [35.28557, -78.6079], [43.803445, -116.749817], [34.072418, -117.121644], [33.18032, -97.100411], [38.223914, -122.258053], [38.882212, -77.028604], [43.037921, -83.67705699999998], [40.28648, -75.59873], [36.036734, -77.836125], [33.596045000000004, -112.117019], [29.644145, -95.355978], [41.015351, -121.626475], [30.40406, -91.081722], [37.559791, -122.041689], [39.61985, -104.89914], [40.06110200000001, -76.35620899999998], [39.06096, -94.49432], [41.523786, -73.480293], [30.273846, -81.768633], [37.865867, -121.665657], [40.015589, -75.21526], [32.956676, -117.244829], [28.093558, -82.748866], [41.66989, -72.83736999999998], [45.00042, -93.45777], [25.942259, -80.343919], [33.929171999999994, -118.088548], [33.913391, -117.285134], [37.826515, -121.199316], [30.649864, -85.93654599999998], [37.704525, -121.887905], [34.302953, -82.019784], [35.790408, -78.58646800000002], [33.868658, -118.195434], [48.04373, -122.18111], [38.494495, -122.754031], [40.819378, -76.467287], [27.80643, -82.70014], [45.828438, -122.843275], [32.340070000000004, -83.76808], [45.411139, -122.744096], [29.438551, -98.460539], [25.62122, -80.37866], [36.331754, -94.184514], [45.848983, -111.334644], [41.16168, -112.021772], [36.874787, -76.19750400000002], [32.777997, -117.115769], [32.4658, -93.755738], [40.732187, -74.12942199999998], [38.752509, -76.992724], [29.657863, -95.561537], [39.63965, -104.91083], [45.287227, -122.338055], [29.965298, -82.974579], [32.948468, -80.233152], [32.206574, -110.843771], [25.914849, -80.309095], [25.95084, -80.335175], [33.876844, -118.189077], [40.075517, -75.356973], [37.704363, -122.157603], [37.58146, -77.46936], [40.747523, -74.170433], [39.312955, -77.51432700000002], [33.457003, -117.104449], [37.969401, -122.048138], [26.121793, -80.168564], [39.663181, -77.739779], [45.891377, -94.766213], [29.774215, -95.397252], [27.58613900000001, -82.425511], [41.386259, -73.60001899999997], [44.86545, -93.29895], [42.45707, -87.82522], [34.162255, -118.294011], [27.793538, -82.334979], [33.55311, -112.09949], [34.42422, -118.42556], [26.084042, -80.192695], [25.942311, -80.182163], [47.713585, -122.327468], [29.5973, -98.56852], [40.609472, -111.96836], [41.040689, -75.31279], [32.676162, -97.024322], [42.29882, -83.87252], [25.881657, -80.35433499999998], [41.629801, -87.693827], [46.80405, -92.36539], [43.165924, -77.58151], [30.471933, -91.084759], [33.59485, -117.17724], [33.88414, -118.02911], [40.71406, -73.95300999999998], [39.231717, -121.109424], [34.033511, -118.221915], [36.921089, -119.793933], [33.87636, -118.08778], [26.605375, -81.99091899999998], [37.023272, -76.32956899999998], [33.567891, -83.84895], [48.07248, -105.53826200000002], [32.095402, -85.692196], [26.355046, -81.750948], [33.461761, -112.122046], [25.686246, -80.416687], [34.412761, -118.578382], [32.22116, -110.9692], [47.113138, -122.293354], [42.34682, -88.28216], [40.09903, -83.15899999999998], [25.842649, -80.209533], [44.95313, -92.95882], [33.77945, -117.876724], [41.548404, -72.74739100000002], [35.745917, -78.59321899999998], [45.933318, -123.92718899999998], [36.018029, -86.61958800000002], [35.25558, -80.98593000000002], [38.53848, -121.47367], [39.93054, -86.14809], [25.578436, -80.369863], [40.95271, -73.853348], [39.742515, -77.087733], [35.134941999999995, -81.08260200000002], [37.783203, -121.221933], [25.954565, -80.240534], [35.84375, -78.579739], [29.905333, -90.06388000000004], [32.535381, -93.820213], [43.933693, -92.060698], [33.543864, -86.786704], [40.944944, -72.88123399999998], [34.185562, -118.317908], [25.630882, -80.38252800000002], [36.086037, -86.69996400000002], [45.474757, -122.640584], [26.451145, -80.090209], [29.763818, -95.363312], [44.81193, -93.21931], [37.709861, -122.076321], [40.407312, -105.137266], [38.813305, -78.59536800000002], [40.110982, -83.11935], [33.61237, -83.74571], [38.87935, -77.248704], [42.775947, -86.080745], [33.213881, -117.389578], [32.732749, -96.892516], [36.014461, -86.620434], [35.072342, -90.029138], [38.453754, -81.910094], [35.313487, -80.88139699999998], [32.680363, -117.08638899999998], [35.285201, -80.858325], [46.656478, -96.392508], [33.922208000000005, -117.428773], [28.498504, -81.285344], [30.424037, -91.150409], [37.297049, -121.939691], [39.594801, -104.886378], [38.833419, -78.57189], [35.24184, -80.77953000000002], [38.80614600000001, -90.842159], [28.426156, -81.422987], [45.5075, -122.72064], [40.696582, -111.93893], [38.66526, -121.272224], [34.178487, -118.119304], [45.970294, -94.145772], [34.95077, -82.18869000000002], [25.78374, -80.26748], [30.23557700000001, -97.82446], [42.202527, -72.943464], [34.03011, -117.694521], [32.73399000000001, -96.650506], [27.956236, -82.483316], [28.451531, -81.400598], [38.968559, -75.433406], [33.130984999999995, -117.083328], [37.918038, -121.283418], [33.71954, -117.7953], [36.17016, -86.60131], [32.82287, -96.75288], [44.030016, -92.488135], [38.660818, -121.387363], [25.82434, -80.321935], [40.660797, -122.356892], [42.07813, -87.75855], [34.785015, -80.753085], [38.437186, -122.718152], [45.670372, -121.889093], [38.86567, -77.00267], [34.700475, -80.664967], [33.820336, -117.875996], [41.999805, -87.74923199999998], [33.869787, -117.681931], [37.70867, -122.16383], [25.747097, -80.303522], [40.755527, -75.308502], [38.862916, -76.848456], [34.908939000000004, -91.196554], [38.313542, -77.503211], [33.182747, -117.218579], [37.143406, -121.98493899999998], [38.339871, -85.753751], [28.18668, -82.667602], [45.03185, -123.08544], [40.76335200000001, -73.95373000000002], [36.136624, -120.336392], [38.263197, -121.299098], [37.347216, -121.841767], [37.56253, -77.47022], [40.42973, -79.875355], [25.768256, -80.33629599999998], [35.97302, -119.292782], [37.98642, -122.525314], [34.025768, -118.275323], [41.573585, -87.277547], [28.828307, -81.326755], [33.03938, -80.143202], [32.658766, -96.733142], [42.86172, -85.679342], [36.85, -76.195882], [29.842901, -100.112318], [35.242375, -80.809854], [39.585746, -76.090847], [37.681925, -77.534542], [33.904337, -118.19401299999998], [33.891265999999995, -118.361302], [38.23583, -85.61639], [34.032651, -118.137943], [33.62603, -111.97791], [33.859753000000005, -118.309149], [35.078651, -81.71866800000002], [40.884214, -111.894568], [32.92582, -96.81125], [43.070814, -123.603826], [27.270835, -82.497663], [25.89868, -80.375656], [38.068005, -75.49931099999998], [41.2679, -95.95663], [33.908839, -79.604988], [32.454704, -93.748161], [43.689376, -123.295272], [41.04088, -73.57815], [39.268344, -80.916205], [33.883606, -117.639788], [44.152901, -94.046218], [47.240501, -122.376636], [29.589475, -98.61018], [36.199279, -84.660872], [37.933135, -121.29694], [33.66919, -115.90932], [34.175851, -79.809764], [29.475694, -81.194074], [33.967209999999994, -118.08348], [38.89941, -77.444369], [40.06892, -75.18175], [34.088011, -118.236032], [45.529972, -122.646056], [34.087203, -118.23413], [32.88421, -96.69716], [38.678947, -121.382951], [32.668121, -97.320614], [41.031387, -78.407111], [34.585466, -118.133943], [41.044868, -73.76485699999998], [37.901297, -118.435181], [32.757289, -96.812705], [34.466804, -118.328088], [27.95593, -82.46595], [44.952873, -93.095104], [35.125461, -85.310974], [41.747448, -77.301958], [40.83833, -73.88243], [36.327687, -119.47535], [39.699635, -106.676728], [35.55791, -97.63841], [38.635492, -121.345931], [40.93096, -74.07045], [36.846007, -76.18271999999997], [25.942344, -80.24547700000002], [33.93583, -118.09295], [42.37257, -83.05122], [25.91323, -80.327976], [33.927444, -118.215371], [39.096686, -94.881813], [35.899633, -78.615512], [34.035303000000006, -118.369211], [47.521271, -111.281586], [45.197632, -93.340503], [34.039675, -118.052008], [32.59796, -117.089321], [39.835942, -75.419627], [36.210819, -119.137977], [37.734634, -122.406332], [28.447717, -81.263685], [35.812164, -78.584014], [35.082844, -85.078477], [32.826536, -117.11753], [35.908845, -78.762048], [44.912336, -93.064117], [29.9668, -90.073828], [34.532429, -82.697261], [34.940894, -80.974698], [43.99787, -121.33091], [34.08858, -117.994378], [40.78109, -73.944185], [36.028115, -95.865565], [26.007627, -80.347549], [30.625237, -88.124138], [32.235942, -110.955041], [42.40505, -83.13551], [45.879564, -111.418493], [33.939263000000004, -118.296233], [35.070155, -90.025762], [34.989678999999995, -120.433616], [34.031659999999995, -118.1861], [42.733608, -83.375641], [30.29403, -85.643598], [33.992394, -80.955848], [38.81981, -76.92515999999998], [44.948468, -92.934566], [44.887318, -93.366753], [37.524581, -77.428311], [33.671958000000004, -117.755361], [38.937076, -94.458988], [38.55174, -90.42402], [30.243439, -81.76272], [26.13563, -80.20257099999998], [35.80017, -78.622139], [38.283929, -122.685578], [32.890019, -117.227589], [44.86228, -93.2535], [34.11602, -118.23894], [40.24519, -76.80873000000003], [38.309733, -121.970375], [40.813295, -124.1894], [40.98628, -73.68349], [35.21568, -80.852954], [32.905873, -80.094284], [34.835807, -81.969651], [28.57552, -81.476014], [25.823886, -80.242068], [42.13244, -72.07399000000002], [43.633812, -116.356212], [34.596053000000005, -82.631116], [34.06385, -117.81195], [37.300557, -77.391503], [29.675316, -95.587226], [37.86432, -122.30287], [37.960032, -122.505401], [42.829463, -118.937674], [34.26103, -119.228], [40.661805, -74.642368], [47.495064, -122.192866], [34.120992, -117.829039], [33.751436, -117.83163], [28.051587, -82.738801], [36.924008, -121.795881], [29.79711, -95.37184], [33.806701000000004, -84.250663], [33.459607, -112.008529], [34.994644, -85.290836], [38.97664, -94.5462], [33.781075, -118.090349], [33.668617, -112.115723], [39.2716, -84.35162], [42.2134, -71.15014000000002], [25.931504, -80.309731], [26.93054, -80.14881], [37.040029, -77.62483399999998], [33.846243, -114.216973], [37.851558, -121.282893], [40.687246, -74.273344], [28.497862, -81.429015], [34.019225, -118.236543], [26.01156700000001, -80.158135], [40.718231, -111.904327], [47.817991, -122.285105], [39.156485, -76.743975], [40.483628, -124.104892], [33.927690000000005, -118.26762], [40.911703, -73.884511], [39.351649, -76.493798], [41.557213, -72.924274], [33.379171, -112.07325], [39.99603, -82.98498000000002], [34.224940000000004, -118.47327], [28.05081, -82.45495600000002], [34.07209, -117.90992], [44.95049, -93.10912], [29.674201, -95.568637], [26.18241, -80.15254], [33.988692, -117.348608], [29.59632, -95.41464], [39.019891, -76.98063499999998], [39.179745, -76.634005], [25.59848, -80.358147], [25.942302, -80.308756], [38.42838, -121.39763], [36.61953, -80.73822], [43.721481, -89.900612], [35.865866, -78.59123100000002], [32.753136, -117.097059], [40.72946, -74.12546], [29.99813, -82.59291999999998], [37.602628, -122.063866], [35.29053, -80.76995], [33.60801, -117.697639], [25.941869, -80.30255799999998], [43.019623, -83.602762], [38.964031, -76.904972], [37.542344, -77.325978], [25.747794, -80.33296800000002], [34.0383, -118.17076000000002], [42.26638, -87.851244], [37.160471, -93.393584], [38.86103, -77.35168], [40.73493300000001, -111.90457], [26.095583, -80.168925], [39.205144, -121.205099], [40.786623, -73.386916], [39.85954, -104.9877], [33.87608, -118.12872], [33.501042, -81.906894], [34.685915, -80.73421], [25.701887, -80.345608], [25.680767000000003, -80.38909699999998], [37.69592, -122.10489], [34.903901, -82.41529799999998], [39.095916, -94.648983], [38.928466, -77.625621], [38.81981, -76.92515999999998], [33.792217, -118.087888], [41.883924, -87.94001], [25.627895, -80.414635], [39.34536, -123.319205], [25.823882, -80.24219699999998], [34.107767, -118.18615], [39.474345, -121.530594], [36.506389, -121.930241], [30.509658, -87.26706300000002], [38.770462, -122.997508], [27.740189, -82.75028499999998], [34.978931, -82.279022], [44.06884, -123.476561], [38.15097, -122.449378], [28.296777, -81.370037], [44.951627, -93.126234], [43.863101, -95.114928], [39.078018, -85.92934100000002], [38.69999, -120.081587], [30.267681, -97.741468], [41.871739, -123.850752], [45.530598, -122.837301], [26.496502000000003, -81.846724], [34.17873, -118.31105], [40.656016, -111.88818700000002], [28.612558, -81.476186], [42.293361, -122.840614], [34.721142, -92.26888], [37.321914, -77.400805], [33.865576000000004, -118.04878], [37.799674, -121.89877], [43.805367, -121.436498], [33.88108, -117.59832], [34.011874, -118.41882], [25.639554, -80.385265], [34.22505, -117.40961], [45.44309000000001, -122.74261], [47.496368, -94.914069], [40.169947, -120.968561], [47.570719, -122.32021], [34.152279, -118.093781], [40.986907, -73.85295699999998], [34.628608, -82.39123000000002], [38.28508, -122.30068], [33.765572, -112.513071], [33.68015, -117.85083799999998], [32.72723, -117.155851], [35.163378, -80.87602199999998], [32.778929999999995, -117.06158], [33.947528000000005, -118.279699], [33.796981, -84.393614], [33.83174, -118.25609], [40.43845200000001, -80.012236], [46.803662, -96.838599], [40.417846, -80.006987], [33.314707, -81.176792], [45.08305, -93.40208], [40.058194, -77.06707800000002], [44.95905, -92.98476], [33.831532, -118.290297], [34.11892, -118.233243], [29.425798, -98.501319], [34.04243, -81.086702], [42.488132, -83.043758], [25.991415, -80.16570300000002], [32.79178, -96.7334], [33.426943, -112.031622], [45.051666, -95.04325], [25.807619, -80.325263], [44.06765, -121.30742], [45.06938, -93.27892], [42.876237, -78.803963], [35.895126, -89.026772], [30.394705, -91.04513], [37.656914, -77.62892099999998], [43.081702, -121.824871], [37.726496, -122.13938600000002], [34.428034000000004, -117.207411], [32.93987, -96.7461], [41.59739, -87.58348000000002], [34.748852, -82.661118], [45.761994, -118.561352], [38.838079, -76.862771], [35.147795, -90.298032], [37.243272, -122.017785], [37.732235, -122.432073], [33.902497, -117.464775], [32.948525, -117.243295], [26.963939, -82.353021], [42.966377, -85.670124], [37.618434, -120.984997], [37.982879, -121.250127], [35.137718, -80.907483], [40.23387, -111.68701], [33.607337, -83.875603], [33.483629, -117.143476], [39.750576, -121.903353], [35.22056, -80.83126999999998], [29.655775, -95.526065], [38.559477, -121.467142], [38.614932, -77.299329], [34.114362, -118.242148], [28.450041, -81.467708], [30.21076, -81.514037], [25.86639, -80.20825], [32.692791, -117.094784], [39.26859, -76.62894], [45.015016, -93.457091], [34.069756, -118.236164], [35.945869, -78.994763], [30.691697, -88.125546], [39.640549, -86.776682], [25.602323, -80.35254300000003], [32.771840000000005, -96.77836], [44.96602, -93.26571], [41.16165, -112.066032], [35.279921, -82.401999], [44.88364, -93.14167], [37.53726500000001, -122.517536], [41.09976500000001, -73.438624], [45.073417, -93.316465], [35.177225, -80.892561], [33.54493, -86.75985], [26.7276, -80.091188], [42.15664, -123.648943], [34.206874, -118.2051], [36.49498300000001, -117.226964], [36.84713, -76.21002299999998], [35.787495, -78.574283], [45.583723, -118.593217], [33.925627, -118.3081], [35.22379, -80.8785], [37.848997, -122.299008], [44.951258, -93.126264], [44.27602, -94.19038], [40.69989, -111.90549], [27.252469, -82.535591], [33.82379, -84.35247], [33.749642, -118.272176], [48.07126, -122.18465], [33.892078999999995, -118.266742], [37.095047, -80.502845], [33.974647, -118.285232], [40.586631, -112.039109], [33.462070000000004, -112.20328], [25.597213, -80.392997], [28.539324, -81.249476], [34.215834, -119.027159], [38.94148300000001, -76.35475100000002], [44.439255, -106.754326], [38.957433, -121.043484], [41.02877, -111.94657], [40.86713, -74.4463], [30.091754, -95.435502], [33.92577, -98.529644], [25.714635, -80.40700799999998], [44.38707, -91.00239], [40.446928, -80.16583], [27.348594, -82.518558], [33.91464000000001, -84.35777], [34.184249, -118.910704], [38.63201, -90.34416], [41.936833, -87.914036], [33.9784, -118.256424], [33.736078000000006, -117.65697], [41.094869, -73.802544], [34.240254, -117.429524], [29.410067, -82.249778], [34.135002, -117.62546], [35.663793, -78.701157], [46.432488, -95.491115], [42.391412, -122.33669], [32.390762, -93.722931], [33.949923, -118.36856], [40.050758, -76.361665], [37.51083, -122.25249], [35.266617, -118.842777], [45.20697, -118.02119], [36.836542, -76.071451], [25.796831, -80.385894], [34.606613, -120.098139], [44.970128, -93.321754], [25.824998, -80.206357], [35.796519, -78.52898499999998], [37.680355, -97.382859], [34.717993, -82.391487], [43.853679, -92.192657], [40.031579, -76.310742], [44.27912, -69.59854], [41.392292, -73.525416], [40.71666, -73.51642], [34.18676, -118.474255], [29.594373, -82.47288499999998], [41.78653, -87.90812], [25.704661, -80.334336], [35.323229, -80.902456], [40.783269, -124.204761], [40.898183, -111.89218], [37.32897, -121.87006], [38.22078, -122.13174], [40.44737, -109.50108], [40.22482, -76.766356], [33.16775, -117.34439], [27.89453, -82.729011], [33.867152000000004, -117.999867], [28.568261, -81.253361], [38.866401, -76.99150999999998], [43.14081, -76.113163], [38.55417, -121.689551], [33.904875, -79.046663], [41.98175300000001, -87.809768], [32.206581, -110.839692], [41.792653, -87.90828], [28.559105, -81.294353], [34.081923, -117.298787], [42.97009, -85.67815999999998], [25.733866, -80.288947], [40.78435, -73.94199], [34.763437, -86.602289], [34.491845, -118.28278799999998], [29.54015, -98.57194], [44.57281, -122.91511], [37.608057, -77.360647], [34.031919, -118.27448], [30.355689, -97.683824], [35.02085, -89.96361999999998], [41.01512, -111.94018], [30.320859, -81.692335], [26.682185, -81.889236], [42.476981, -122.964082], [37.144924, -76.490709], [41.410426, -73.91433], [38.915892, -77.21782900000002], [34.117721, -117.844675], [40.890617, -74.070379], [30.378556, -97.609619], [35.779812, -78.645041], [45.10438, -93.4604], [35.74871, -78.59397], [42.4688, -82.91919], [38.24771, -122.270054], [33.938208, -118.300799], [37.813697, -122.361552], [34.0246, -118.46924], [42.224396, -83.401798], [39.93124, -86.02675], [33.813371000000004, -79.034071], [38.299947, -122.033797], [32.88765, -96.77003], [28.505711, -81.31015699999998], [32.97626, -117.08775], [28.552627, -81.44658299999998], [41.239418, -77.026481], [34.972878, -81.988258], [35.957613, -119.038009], [42.082926, -73.973451], [40.853329, -73.961325], [35.799387, -78.658862], [41.172355, -75.956723], [42.41412, -87.904], [43.019145, -78.181275], [30.31711, -81.73409000000002], [32.759848, -117.162381], [40.82734, -73.43818], [39.100299, -121.551457], [33.901533, -118.254686], [27.388368, -82.472251], [37.732129, -122.41564], [40.706971, -111.90363], [40.83177, -73.3377], [44.86223, -93.23101], [41.78873, -87.63123], [41.52156, -88.19866999999998], [40.697068, -111.90162], [38.670517, -121.545336], [25.944274, -80.307124], [44.66928, -123.05807], [37.4497, -77.48359], [35.557929, -119.39408], [41.539489, -94.018324], [36.047794, -95.886294], [30.008115000000004, -90.014629], [32.916522, -80.032219], [47.502856, -122.276989], [38.878523, -94.792774], [39.061449, -77.155727], [37.463472, -120.83083], [45.60043, -122.6352], [40.840677, -74.161845], [38.823886, -123.015183], [35.01102, -81.85699699999998], [44.54559, -94.27045], [42.372561, -83.051179], [33.232576, -117.22619], [34.792018, -80.796832], [28.451013, -81.470834], [37.199052, -77.458966], [37.620524, -120.98556200000002], [38.327197, -77.50089200000002], [33.66973, -112.142328], [30.339377, -81.540318], [30.417223, -91.097589], [30.50328, -87.16749], [37.64039, -121.884691], [44.0118, -123.77933], [40.1551, -76.12439599999998], [33.2166, -79.972651], [33.985777, -117.232989], [32.792962, -96.792393], [34.07185, -118.144385], [44.145406, -94.083305], [32.70036, -80.87373000000002], [34.962182, -86.56790500000002], [42.293118, -84.43285], [47.58663, -122.17931000000002], [41.77902, -87.63133], [28.863268, -82.09092], [32.923034, -96.749513], [34.347643, -117.448576], [38.616689, -121.420464], [38.234599, -121.171463], [42.38027, -83.21687], [27.895838, -82.67076899999998], [33.403620000000004, -111.96781], [40.425823, -80.019947], [36.065592, -79.379835], [39.357119, -77.561221], [37.354194, -121.911207], [42.239897, -87.994186], [25.884911, -80.204549], [25.848931, -80.208209], [25.973606, -80.166036], [35.442574, -119.086175], [42.41005, -87.864786], [34.10792, -117.19978], [37.675933, -122.110507], [25.64279800000001, -80.391123], [25.655815, -80.423819], [35.542799, -82.915588], [30.320775, -81.688448], [37.833153, -122.482355], [37.526607, -122.270309], [34.369602, -80.771911], [34.237722, -81.457217], [36.210894, -119.296083], [30.648589, -88.120986], [45.477449, -120.740161], [35.306261, -80.854437], [39.769175, -84.20594200000002], [34.027374, -117.800513], [34.015370000000004, -118.05532], [25.91489, -80.21001], [37.86660300000001, -121.669612], [35.383045, -119.04458], [43.14542, -123.36493], [38.655093, -121.478066], [33.548029, -86.63222900000002], [30.216622, -97.844158], [38.095854, -78.180352], [34.060749, -118.250533], [37.412308, -77.649087], [38.525109, -121.334898], [35.06565, -81.64994300000002], [36.04595, -95.856671], [35.522, -97.53452], [26.580492, -81.804558], [43.611165, -116.314318], [37.214998, -121.988198], [33.626407, -117.655794], [40.885162, -74.322038], [25.626145, -80.41645], [28.493714, -81.461584], [34.172085, -118.532134], [33.876816, -118.114281], [40.84507, -73.91626], [39.958542, -75.609639], [35.061258, -80.96214300000003], [28.4101, -81.47130200000002], [32.66055, -96.882276], [39.10158, -84.52348], [41.637486, -74.078675], [25.788735, -80.203637], [39.94410300000001, -79.188643], [38.910493, -77.00002099999998], [30.34124000000001, -91.727799], [32.69625, -117.09504], [30.44932, -84.35746], [37.49557, -121.95213], [34.136227000000005, -117.495785], [39.29125, -76.50248], [44.06765, -121.30253], [42.400875, -83.218377], [40.547114, -74.281643], [32.215401, -80.747563], [32.798611, -96.808062], [38.021914, -121.961309], [43.03237, -88.16244], [40.52089, -74.3068], [29.77239, -95.14934], [41.76116, -87.89331999999996], [35.22333, -80.85101999999998], [42.961471, -83.573753], [27.283904, -82.489297], [40.797635, -74.062855], [34.173590999999995, -79.43941], [42.914007, -78.766354], [32.378619, -111.34595], [27.84975, -82.3818], [40.019978, -78.33842299999998], [32.34823, -86.322], [37.82460800000001, -121.994638], [38.563847, -121.636669], [38.010735, -77.907352], [43.184566, -77.543581], [44.95183, -93.157804], [38.697632, -77.225825], [41.98469, -87.83185], [48.904152, -115.025327], [30.19497, -97.789176], [38.66128, -121.3765], [32.816907, -117.14983], [39.58751, -75.74038], [41.784953, -87.82911999999996], [45.370369, -122.705742], [29.956873, -90.079919], [42.342916, -88.16923], [32.98826500000001, -117.255265], [45.696329, -118.945037], [37.604369, -77.503472], [47.158762, -122.45549], [25.908751, -80.23441600000002], [47.341425, -114.684086], [42.97452, -83.692821], [28.53514, -81.38472], [43.110388, -75.25887900000002], [25.936029, -80.12171], [33.207726, -97.160086], [45.664699, -118.765553], [38.650045, -76.884446], [37.482194, -122.221601], [45.095669, -93.449074], [37.822803, -121.59545], [33.64876, -84.36978], [38.95796, -105.32616000000002], [38.61794, -121.395481], [32.304643, -97.181764], [47.73322, -116.7929], [39.22877, -77.28293000000002], [38.905881, -77.079565], [33.975346, -117.879411], [34.03298, -118.144082], [41.02521, -73.611034], [32.374927, -111.12528799999998], [37.864318, -122.208809], [30.398439, -90.087187], [27.987528, -80.554851], [37.19225, -120.336438], [36.084697, -95.957985], [28.626417, -81.443609], [29.80177, -95.33963], [44.287143, -93.308998], [40.271912, -77.033085], [38.65782, -121.36338], [40.673671, -111.952432], [34.080193, -118.227333], [28.635897, -81.44800699999998], [37.62519, -77.549366], [44.01017, -123.02177], [46.699501, -92.423375], [35.849659, -78.58235400000002], [36.13153300000001, -86.773957], [34.216307, -118.408595], [30.00109, -95.58265], [37.58581, -122.051591], [40.311128, -111.734553], [42.10805, -77.232063], [32.804046, -96.611167], [40.232802, -76.950978], [33.92889, -118.29314], [44.050873, -95.55268], [41.947488, -87.883953], [34.01602800000001, -118.173202], [40.838536, -73.93007], [42.968105, -82.48998], [35.7436, -78.82135699999998], [43.054098, -77.561114], [40.8195, -73.93075999999998], [33.843721, -117.535107], [41.783528, -124.178891], [33.40671, -112.0734], [45.18312, -122.803085], [34.945501, -81.122671], [38.448627, -90.310435], [38.935648, -77.0828], [34.027158, -118.037596], [42.80908400000001, -83.78201800000002], [32.352477, -95.289436], [28.067461, -82.747455], [39.06176, -94.48862], [47.549468, -113.732169], [30.439411, -91.195997], [37.972065, -122.060862], [36.760269, -119.775338], [44.96399, -93.23319], [26.242807, -80.136424], [26.770893, -81.437449], [25.714654, -80.41241600000002], [36.998251, -76.408807], [34.469915, -118.197212], [40.69584, -73.96445], [35.83859, -78.324662], [34.02919, -117.966695], [30.166537, -84.378546], [29.82857000000001, -95.38091], [25.799144, -80.250596], [35.01521, -85.18037], [45.34322, -118.22672], [37.457287, -77.42531], [30.308856, -81.77044599999998], [34.119223, -114.397821], [45.012065, -93.461593], [29.712190000000003, -95.16234], [28.493792, -81.459929], [43.107707, -75.251372], [28.357378000000004, -81.494599], [41.8153, -87.63048], [32.443353, -93.714865], [28.838386, -81.6662], [39.80204000000001, -75.45091], [39.946149, -76.04454100000002], [33.77758, -84.39076], [33.410903000000005, -84.160945], [45.589373, -118.554621], [38.141452, -122.224563], [40.38613, -77.14305], [40.802932, -73.324288], [34.072309999999995, -118.081805], [34.50492, -79.30404], [42.993494, -78.802635], [39.74369, -84.24829], [37.702084, -121.823269], [34.566671, -118.686023], [38.800428, -77.020736], [37.774847, -122.405472], [27.818293, -82.82332099999998], [28.048794, -82.740527], [36.232233, -84.157169], [41.04863, -81.50534], [33.926347, -118.368518], [37.218939, -93.297427], [28.319717, -82.32485799999998], [33.884079, -117.405064], [38.146082, -77.505769], [35.616478, -118.475309], [33.774829, -118.044693], [45.41257, -122.57313], [37.90916, -122.513758], [33.941178, -118.096711], [42.262553, -88.101951], [37.333314, -121.896887], [35.2177, -80.81378000000002], [34.27615, -118.38583], [34.492166999999995, -118.283689], [35.072523, -85.24128], [26.942746000000003, -80.153554], [35.3352, -80.82500999999998], [35.848542, -78.690768], [43.09330900000001, -75.208271], [37.41764000000001, -77.64015], [32.792504, -96.683515], [44.77, -123.04471], [37.689129, -77.451463], [38.607334, -121.395086], [35.340143, -119.00292], [33.833347, -117.247077], [42.405981, -87.936825], [25.782711, -80.224106], [44.892435, -93.57821], [35.873204, -84.09095400000002], [36.411743, -90.657842], [33.022488, -117.079077], [34.226178000000004, -118.230693], [34.201008, -118.473633], [38.89738300000001, -77.439718], [30.933667, -88.026075], [45.737918, -92.991746], [37.686605, -122.130107], [46.352014, -94.083599], [44.32146, -88.93408000000002], [38.132413, -77.511059], [40.45028, -104.99221], [34.490536, -118.134173], [34.068589, -118.040008], [36.115766, -86.81060699999998], [30.511125, -87.220189], [45.25146, -122.7934], [34.07907, -118.28938], [28.054608, -82.455278], [34.782146000000004, -82.473839], [42.982689, -83.731089], [32.73498, -96.82382], [48.2397, -122.33026], [45.242482, -122.327699], [47.61293, -122.33019], [36.177556, -86.773126], [45.50053, -122.67374], [35.276127, -82.712006], [34.259518, -118.438225], [33.497074, -117.14847], [33.465859, -111.819197], [27.855952, -82.346874], [35.265982, -80.76899300000002], [33.822512, -118.197128], [37.895226, -122.308246], [32.861740000000005, -96.65757], [30.176042, -82.686527], [36.162607, -86.820756], [36.411763, -118.934066], [37.78272800000001, -79.4004], [34.73115, -86.95716999999998], [43.128511, -77.483729], [33.80707, -118.29853], [45.701934, -120.33176], [40.72456, -79.38434000000002], [41.960231, -71.87561600000002], [36.6445, -119.704166], [47.57956, -122.21456], [34.301894, -118.422077], [37.77009, -122.419935], [41.76169, -87.62589], [44.767805, -93.863959], [28.495335, -81.396918], [34.15237, -118.103635], [40.780226, -73.568298], [38.047741, -122.234659], [44.438992, -121.199271], [33.779328, -117.87692], [36.746663, -119.804227], [33.991715, -84.33804599999998], [41.013647, -78.31094300000002], [40.253708, -76.80006], [33.883556, -117.535805], [28.036591, -82.09705600000002], [43.03045, -87.97004], [33.033103999999994, -80.03433299999998], [39.97739, -75.594835], [48.1042, -123.34312], [36.832489, -76.32681600000002], [40.027408, -76.303688], [25.769106, -80.35156500000002], [43.60605, -116.59122], [30.01246, -89.99869], [38.63001, -90.3658], [29.744005, -95.418794], [35.192981, -80.885121], [37.7506, -122.151478], [38.026756, -121.935258], [37.559577, -77.386278], [28.191425, -82.607552], [41.66408300000001, -91.3511], [44.89075, -93.266899], [34.708534, -82.237286], [38.751308, -121.4883], [27.96063, -82.72039000000002], [28.339833, -81.481291], [40.683277, -75.307845], [40.761554, -73.966584], [38.89784, -104.82992], [40.421714, -80.096988], [33.922835, -118.246433], [33.938067, -118.098356], [41.682244, -71.908275], [39.847222, -78.086076], [39.62131, -77.78943000000002], [33.48752, -112.06505], [34.91881, -82.099767], [37.558823, -77.45230600000002], [37.47697, -121.93317], [35.639133, -117.758675], [42.654275, -123.377605], [32.776261, -117.111865], [27.270415000000003, -82.497665], [37.389487, -120.586902], [33.916623, -117.287297], [28.54148, -81.41355], [33.367389, -117.250326], [41.79957, -88.09106], [32.693585, -117.094784], [25.728743, -80.430194], [28.068273, -82.451094], [32.416803, -86.355861], [44.95165, -93.12154], [32.884655, -96.897983], [25.68001700000001, -80.31676999999998], [37.504561, -77.085068], [30.433764, -81.580613], [25.623107, -80.343665], [35.946439, -78.537492], [37.243675, -77.39401], [44.702638, -124.061082], [35.670231, -78.927533], [38.617575, -121.364472], [32.689161, -117.093911], [42.479138, -87.884524], [28.492218, -81.585604], [33.77834, -117.8965], [27.942963, -82.544907], [25.210586, -80.423794], [32.942802, -96.742781], [34.067915, -118.135702], [37.254048, -121.947866], [34.155245, -118.293896], [40.221338, -75.249802], [38.310492, -77.66324399999998], [33.988349, -118.354144], [36.70695300000001, -119.775202], [38.191202, -85.71717199999998], [33.876286, -118.102561], [35.280728, -80.765663], [33.968167, -118.167854], [40.72593, -111.90421], [27.851856, -82.660899], [38.668253, -121.336578], [38.59118, -77.119584], [37.317687, -121.932867], [25.900624, -80.227499], [39.474316, -76.654454], [38.195268, -85.733099], [33.76915, -84.390524], [34.24034, -111.32299], [34.179271, -117.439867], [40.03332, -75.58376], [39.712411, -105.302935], [35.803632, -78.59463199999998], [42.353421, -83.104029], [42.26422, -83.27825], [41.876344, -72.333984], [47.73283, -95.00609], [37.493927, -81.098013], [39.744563, -122.013349], [45.301105, -118.286054], [33.772290000000005, -118.03771], [40.492341, -112.332449], [41.842356, -72.665253], [30.715745, -85.93006899999996], [37.702969, -121.76067], [42.233773, -113.085461], [28.542457, -81.38218], [43.62567, -73.98716800000003], [41.76799000000001, -72.65711999999998], [35.060717, -85.134226], [44.866816, -93.247335], [40.43545, -74.2533], [28.266462, -82.161202], [39.627105, -84.217075], [41.811833, -71.40616899999998], [41.694048, -91.637896], [37.783751, -120.858034], [39.23103, -76.64986], [40.753732, -111.832776], [34.03615, -118.03961], [37.600279, -122.061929], [28.378914, -81.36575400000002], [32.763921, -96.937451], [35.368028, -119.043292], [33.897492, -117.490593], [42.383118, -83.06577], [25.701238, -80.334038], [44.48932, -122.83638], [34.028288, -118.274325], [40.69922800000001, -73.983896], [34.493973, -81.84118000000002], [28.359923, -80.788395], [37.89687, -122.10223], [33.50586, -86.817128], [25.760886, -80.395587], [32.743799, -96.815575], [33.978224, -117.371222], [42.920971, -78.899727], [30.430228000000003, -91.056553], [47.46304, -122.28719], [27.278656, -82.530682], [32.66261, -97.24487], [33.924138, -118.023223], [38.159422, -77.50764000000002], [34.679496, -92.334763], [39.13322, -84.53272], [33.519684000000005, -117.160853], [36.735931, -119.56962], [40.847919, -111.906977], [34.159624, -118.465847], [28.450781, -81.477807], [42.550384, -77.70127099999998]],\n",
              "                {&quot;blur&quot;: 15, &quot;maxZoom&quot;: 18, &quot;minOpacity&quot;: 0.5, &quot;radius&quot;: 25}\n",
              "            ).addTo(map_c530a9fa2a9c429d57a8c130f81ce38f);\n",
              "        \n",
              "&lt;/script&gt;\n",
              "&lt;/html&gt;\" style=\"position:absolute;width:100%;height:100%;left:0;top:0;border:none !important;\" allowfullscreen webkitallowfullscreen mozallowfullscreen></iframe></div></div>"
            ]
          },
          "metadata": {},
          "execution_count": 61
        }
      ]
    },
    {
      "cell_type": "code",
      "source": [],
      "metadata": {
        "id": "v01-A4IefvRw"
      },
      "execution_count": null,
      "outputs": []
    }
  ]
}